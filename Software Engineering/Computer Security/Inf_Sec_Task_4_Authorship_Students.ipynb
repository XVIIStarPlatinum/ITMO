{
 "cells": [
  {
   "cell_type": "markdown",
   "metadata": {
    "id": "G6w8Mqlah2lC"
   },
   "source": [
    "# Используемые модули"
   ]
  },
  {
   "cell_type": "code",
   "metadata": {
    "id": "Cw8ur2aih2lG",
    "ExecuteTime": {
     "end_time": "2025-03-24T07:26:42.372961Z",
     "start_time": "2025-03-24T07:26:40.539999Z"
    }
   },
   "source": [
    "import nltk\n",
    "import pandas as pd\n",
    "from nltk.corpus import stopwords\n",
    "from nltk.stem import PorterStemmer\n",
    "from nltk.tokenize import RegexpTokenizer\n",
    "from sklearn.ensemble import RandomForestClassifier\n",
    "from sklearn.feature_extraction.text import CountVectorizer, TfidfVectorizer\n",
    "from sklearn.feature_selection import RFECV\n",
    "from sklearn.metrics import accuracy_score, f1_score, precision_score, recall_score\n",
    "from sklearn.metrics import classification_report,confusion_matrix\n",
    "from collections import Counter\n",
    "import seaborn as sns\n",
    "from tqdm import tqdm\n",
    "import warnings\n",
    "from sklearn.model_selection import train_test_split\n",
    "from sklearn.naive_bayes import MultinomialNB\n",
    "from sklearn.pipeline import make_pipeline\n",
    "from matplotlib.pyplot import figure\n",
    "import matplotlib.pyplot as plt\n",
    "import numpy as np\n",
    "\n",
    "warnings.filterwarnings(\"ignore\")"
   ],
   "outputs": [],
   "execution_count": 3
  },
  {
   "cell_type": "markdown",
   "source": [
    "# Описание набора данных"
   ],
   "metadata": {
    "id": "7k5dUgFjQmRl"
   }
  },
  {
   "cell_type": "markdown",
   "source": [
    "В этой работе используется датасет [Reuters_50_50](https://archive.ics.uci.edu/ml/datasets/Reuter_50_50), содержащий тексты \\(50\\) авторов, предварительно категоризованных по авторам. Тексты содержат буквы стандартного латинского алфавита и знаки пунктуации. Набор данных состоит двух колонок:\n",
    "\n",
    "*   <b>text</b> — текст;\n",
    "*   <b>author</b> — автор (класс).\n",
    "\n",
    "Целью является построение классификатора, способного определять авторство текста.\n",
    "\n"
   ],
   "metadata": {
    "id": "luv6R04TQnci"
   }
  },
  {
   "cell_type": "markdown",
   "source": [
    "# Разведочный анализ данных"
   ],
   "metadata": {
    "id": "c_vhG8NqSF7A"
   }
  },
  {
   "cell_type": "markdown",
   "source": [
    "Считайте набор данных в датафрейм."
   ],
   "metadata": {
    "id": "SuBy_rk4SQ3C"
   }
  },
  {
   "cell_type": "code",
   "source": [
    "df = pd.read_csv(\"sources/Text_by_Author.csv\")\n",
    "df"
   ],
   "metadata": {
    "colab": {
     "base_uri": "https://localhost:8080/",
     "height": 487
    },
    "id": "qea7wZWai7Rt",
    "executionInfo": {
     "status": "ok",
     "timestamp": 1694088695034,
     "user_tz": -180,
     "elapsed": 8055,
     "user": {
      "displayName": "Дмитрий Волчек",
      "userId": "12396512946067001179"
     }
    },
    "outputId": "66ec58d8-7f55-4ac7-94bc-19a911fbf622",
    "ExecuteTime": {
     "end_time": "2025-03-24T07:28:24.815572Z",
     "start_time": "2025-03-24T07:28:24.540291Z"
    }
   },
   "outputs": [
    {
     "data": {
      "text/plain": [
       "                                                   text           author\n",
       "0     China is firming up a shortlist of foreign ban...   GrahamEarnshaw\n",
       "1     The most magnificent building of old Shanghai ...   GrahamEarnshaw\n",
       "2     China's personal bank deposits, which surged i...   GrahamEarnshaw\n",
       "3     Chinese authorities have closed their eyes to ...   GrahamEarnshaw\n",
       "4     The crackdown on China's young stock markets h...   GrahamEarnshaw\n",
       "...                                                 ...              ...\n",
       "4995  Beijing's propaganda machine has accused the U...  BenjaminKangLim\n",
       "4996  China's propaganda machine had a field day on ...  BenjaminKangLim\n",
       "4997  North Korea said on Monday it would fire a top...  BenjaminKangLim\n",
       "4998  China has pledged to edge open its insurance, ...  BenjaminKangLim\n",
       "4999  China is considering restrictions on foreign i...  BenjaminKangLim\n",
       "\n",
       "[5000 rows x 2 columns]"
      ],
      "text/html": [
       "<div>\n",
       "<style scoped>\n",
       "    .dataframe tbody tr th:only-of-type {\n",
       "        vertical-align: middle;\n",
       "    }\n",
       "\n",
       "    .dataframe tbody tr th {\n",
       "        vertical-align: top;\n",
       "    }\n",
       "\n",
       "    .dataframe thead th {\n",
       "        text-align: right;\n",
       "    }\n",
       "</style>\n",
       "<table border=\"1\" class=\"dataframe\">\n",
       "  <thead>\n",
       "    <tr style=\"text-align: right;\">\n",
       "      <th></th>\n",
       "      <th>text</th>\n",
       "      <th>author</th>\n",
       "    </tr>\n",
       "  </thead>\n",
       "  <tbody>\n",
       "    <tr>\n",
       "      <th>0</th>\n",
       "      <td>China is firming up a shortlist of foreign ban...</td>\n",
       "      <td>GrahamEarnshaw</td>\n",
       "    </tr>\n",
       "    <tr>\n",
       "      <th>1</th>\n",
       "      <td>The most magnificent building of old Shanghai ...</td>\n",
       "      <td>GrahamEarnshaw</td>\n",
       "    </tr>\n",
       "    <tr>\n",
       "      <th>2</th>\n",
       "      <td>China's personal bank deposits, which surged i...</td>\n",
       "      <td>GrahamEarnshaw</td>\n",
       "    </tr>\n",
       "    <tr>\n",
       "      <th>3</th>\n",
       "      <td>Chinese authorities have closed their eyes to ...</td>\n",
       "      <td>GrahamEarnshaw</td>\n",
       "    </tr>\n",
       "    <tr>\n",
       "      <th>4</th>\n",
       "      <td>The crackdown on China's young stock markets h...</td>\n",
       "      <td>GrahamEarnshaw</td>\n",
       "    </tr>\n",
       "    <tr>\n",
       "      <th>...</th>\n",
       "      <td>...</td>\n",
       "      <td>...</td>\n",
       "    </tr>\n",
       "    <tr>\n",
       "      <th>4995</th>\n",
       "      <td>Beijing's propaganda machine has accused the U...</td>\n",
       "      <td>BenjaminKangLim</td>\n",
       "    </tr>\n",
       "    <tr>\n",
       "      <th>4996</th>\n",
       "      <td>China's propaganda machine had a field day on ...</td>\n",
       "      <td>BenjaminKangLim</td>\n",
       "    </tr>\n",
       "    <tr>\n",
       "      <th>4997</th>\n",
       "      <td>North Korea said on Monday it would fire a top...</td>\n",
       "      <td>BenjaminKangLim</td>\n",
       "    </tr>\n",
       "    <tr>\n",
       "      <th>4998</th>\n",
       "      <td>China has pledged to edge open its insurance, ...</td>\n",
       "      <td>BenjaminKangLim</td>\n",
       "    </tr>\n",
       "    <tr>\n",
       "      <th>4999</th>\n",
       "      <td>China is considering restrictions on foreign i...</td>\n",
       "      <td>BenjaminKangLim</td>\n",
       "    </tr>\n",
       "  </tbody>\n",
       "</table>\n",
       "<p>5000 rows × 2 columns</p>\n",
       "</div>"
      ]
     },
     "execution_count": 6,
     "metadata": {},
     "output_type": "execute_result"
    }
   ],
   "execution_count": 6
  },
  {
   "cell_type": "markdown",
   "source": [
    "Определите сбалансированность датасета. Постройте столбчатую диаграмму распределения количества текстов по авторам. Определите какое количество текстов автора <code>BenjaminKangLim</code> содержится в наборе данных"
   ],
   "metadata": {
    "id": "4YC-hhqoSYxZ"
   }
  },
  {
   "cell_type": "code",
   "source": "df.loc[df['author'] == \"BenjaminKangLim\"]",
   "metadata": {
    "id": "HyDTj6kDS99l",
    "ExecuteTime": {
     "end_time": "2025-03-24T07:29:28.583328Z",
     "start_time": "2025-03-24T07:29:28.571037Z"
    }
   },
   "outputs": [
    {
     "data": {
      "text/plain": [
       "                                                   text           author\n",
       "2450  China sent a senior official to attend a recep...  BenjaminKangLim\n",
       "2451  China called on Taiwan on Tuesday to show good...  BenjaminKangLim\n",
       "2452  China demanded on Monday that the United State...  BenjaminKangLim\n",
       "2453  Chinese President Jiang Zemin tried to reassur...  BenjaminKangLim\n",
       "2454  China pledged on Wednesday to curb a rush by p...  BenjaminKangLim\n",
       "...                                                 ...              ...\n",
       "4995  Beijing's propaganda machine has accused the U...  BenjaminKangLim\n",
       "4996  China's propaganda machine had a field day on ...  BenjaminKangLim\n",
       "4997  North Korea said on Monday it would fire a top...  BenjaminKangLim\n",
       "4998  China has pledged to edge open its insurance, ...  BenjaminKangLim\n",
       "4999  China is considering restrictions on foreign i...  BenjaminKangLim\n",
       "\n",
       "[100 rows x 2 columns]"
      ],
      "text/html": [
       "<div>\n",
       "<style scoped>\n",
       "    .dataframe tbody tr th:only-of-type {\n",
       "        vertical-align: middle;\n",
       "    }\n",
       "\n",
       "    .dataframe tbody tr th {\n",
       "        vertical-align: top;\n",
       "    }\n",
       "\n",
       "    .dataframe thead th {\n",
       "        text-align: right;\n",
       "    }\n",
       "</style>\n",
       "<table border=\"1\" class=\"dataframe\">\n",
       "  <thead>\n",
       "    <tr style=\"text-align: right;\">\n",
       "      <th></th>\n",
       "      <th>text</th>\n",
       "      <th>author</th>\n",
       "    </tr>\n",
       "  </thead>\n",
       "  <tbody>\n",
       "    <tr>\n",
       "      <th>2450</th>\n",
       "      <td>China sent a senior official to attend a recep...</td>\n",
       "      <td>BenjaminKangLim</td>\n",
       "    </tr>\n",
       "    <tr>\n",
       "      <th>2451</th>\n",
       "      <td>China called on Taiwan on Tuesday to show good...</td>\n",
       "      <td>BenjaminKangLim</td>\n",
       "    </tr>\n",
       "    <tr>\n",
       "      <th>2452</th>\n",
       "      <td>China demanded on Monday that the United State...</td>\n",
       "      <td>BenjaminKangLim</td>\n",
       "    </tr>\n",
       "    <tr>\n",
       "      <th>2453</th>\n",
       "      <td>Chinese President Jiang Zemin tried to reassur...</td>\n",
       "      <td>BenjaminKangLim</td>\n",
       "    </tr>\n",
       "    <tr>\n",
       "      <th>2454</th>\n",
       "      <td>China pledged on Wednesday to curb a rush by p...</td>\n",
       "      <td>BenjaminKangLim</td>\n",
       "    </tr>\n",
       "    <tr>\n",
       "      <th>...</th>\n",
       "      <td>...</td>\n",
       "      <td>...</td>\n",
       "    </tr>\n",
       "    <tr>\n",
       "      <th>4995</th>\n",
       "      <td>Beijing's propaganda machine has accused the U...</td>\n",
       "      <td>BenjaminKangLim</td>\n",
       "    </tr>\n",
       "    <tr>\n",
       "      <th>4996</th>\n",
       "      <td>China's propaganda machine had a field day on ...</td>\n",
       "      <td>BenjaminKangLim</td>\n",
       "    </tr>\n",
       "    <tr>\n",
       "      <th>4997</th>\n",
       "      <td>North Korea said on Monday it would fire a top...</td>\n",
       "      <td>BenjaminKangLim</td>\n",
       "    </tr>\n",
       "    <tr>\n",
       "      <th>4998</th>\n",
       "      <td>China has pledged to edge open its insurance, ...</td>\n",
       "      <td>BenjaminKangLim</td>\n",
       "    </tr>\n",
       "    <tr>\n",
       "      <th>4999</th>\n",
       "      <td>China is considering restrictions on foreign i...</td>\n",
       "      <td>BenjaminKangLim</td>\n",
       "    </tr>\n",
       "  </tbody>\n",
       "</table>\n",
       "<p>100 rows × 2 columns</p>\n",
       "</div>"
      ]
     },
     "execution_count": 7,
     "metadata": {},
     "output_type": "execute_result"
    }
   ],
   "execution_count": 7
  },
  {
   "cell_type": "markdown",
   "source": [
    "Постройте распределение авторов по средней длине текста. Определите авторов с самым длинным и самым коротким в среднем текстами."
   ],
   "metadata": {
    "id": "GCCLW5xGYy_9"
   }
  },
  {
   "cell_type": "code",
   "source": [
    "df['length'] = df['text'].apply(len)\n",
    "\n",
    "author_stats = df.groupby('author')['length'].mean().reset_index()\n",
    "\n",
    "shortest_author = author_stats.loc[author_stats['length'].idxmin()]\n",
    "longest_author = author_stats.loc[author_stats['length'].idxmax()]\n",
    "\n",
    "print(f\"Автор с самым коротким в среднем текстом: {shortest_author['author']}\")\n",
    "print(f\"Средняя длина текста: {shortest_author['length']} символов\")\n",
    "print(f\"Автор с самым длинным в среднем текстом: {longest_author['author']}\")\n",
    "print(f\"Средняя длина текста: {longest_author['length']} символов\")\n",
    "\n",
    "author_counts = df['author'].value_counts().reset_index()\n",
    "author_counts.columns = ['Author', 'Article Count']\n",
    "\n",
    "print(author_counts)\n",
    "\n",
    "# Построение распределения\n",
    "plt.figure(figsize=(10, 6))\n",
    "plt.bar(author_counts['Author'], author_counts['Article Count'])\n",
    "plt.xticks(rotation=90)\n",
    "plt.xlabel('Авторы')\n",
    "plt.ylabel('Количество статей')\n",
    "plt.title('Распределение количества статей по авторам')\n",
    "plt.tight_layout()\n",
    "plt.show()"
   ],
   "metadata": {
    "id": "hiqsxfHwZQjA",
    "ExecuteTime": {
     "end_time": "2025-03-24T07:43:22.652950Z",
     "start_time": "2025-03-24T07:43:22.073102Z"
    }
   },
   "outputs": [
    {
     "name": "stdout",
     "output_type": "stream",
     "text": [
      "Автор с самым коротким в среднем текстом: JimGilchrist\n",
      "Средняя длина текста: 1994.44 символов\n",
      "Автор с самым длинным в среднем текстом: PeterHumphrey\n",
      "Средняя длина текста: 3629.14 символов\n",
      "               Author  Article Count\n",
      "0      GrahamEarnshaw            100\n",
      "1        JimGilchrist            100\n",
      "2       AaronPressman            100\n",
      "3         SimonCowell            100\n",
      "4           KeithWeir            100\n",
      "5         KarlPenhaul            100\n",
      "6          MartinWolk            100\n",
      "7      AlexanderSmith            100\n",
      "8       JaneMacartney            100\n",
      "9            TanEeLyn            100\n",
      "10          NickLouth            100\n",
      "11      PeterHumphrey            100\n",
      "12       MarkBendeich            100\n",
      "13         TimFarrand            100\n",
      "14       JohnMastrini            100\n",
      "15   DarrenSchuettler            100\n",
      "16        DavidLawder            100\n",
      "17      EdnaFernandes            100\n",
      "18    LynnleyBrowning            100\n",
      "19     KevinDrawbaugh            100\n",
      "20          LydiaZajc            100\n",
      "21      KevinMorrison            100\n",
      "22     TheresePoletti            100\n",
      "23       JonathanBirt            100\n",
      "24        SamuelPerry            100\n",
      "25       SarahDavison            100\n",
      "26           JoeOrtiz            100\n",
      "27       RogerFillion            100\n",
      "28         ToddNissen            100\n",
      "29         AlanCrosby            100\n",
      "30     JoWinterbottom            100\n",
      "31   HeatherScoffield            100\n",
      "32         RobinSidel            100\n",
      "33  KouroshKarimkhany            100\n",
      "34    PatriciaCommins            100\n",
      "35    MarcelMichelson            100\n",
      "36     FumikoFujisaki            100\n",
      "37       MatthewBunce            100\n",
      "38       WilliamKazer            100\n",
      "39         MureDickie            100\n",
      "40      MichaelConnor            100\n",
      "41         JanLopatka            100\n",
      "42      BernardHickey            100\n",
      "43        EricAuchard            100\n",
      "44      KirstinRidley            100\n",
      "45         PierreTran            100\n",
      "46        BradDorfman            100\n",
      "47        ScottHillis            100\n",
      "48     LynneO'Donnell            100\n",
      "49    BenjaminKangLim            100\n"
     ]
    },
    {
     "data": {
      "text/plain": [
       "<Figure size 1000x600 with 1 Axes>"
      ],
      "image/png": "[encoded data removed]"
     },
     "metadata": {},
     "output_type": "display_data"
    }
   ],
   "execution_count": 10
  },
  {
   "cell_type": "markdown",
   "source": [
    "# Базовые модели"
   ],
   "metadata": {
    "id": "E8Co02fecB73"
   }
  },
  {
   "cell_type": "markdown",
   "source": [
    "В качестве базовой модели можно рассмотреть построение наивного байесовского классификатора ([<code>MultinomialNB</code>](https://scikit-learn.org/stable/modules/generated/sklearn.naive_bayes.MultinomialNB.html)). Для генерации признаков на основе частот слов в тексте используйте [<code>CountVectorizer</code>](https://scikit-learn.org/stable/modules/generated/sklearn.feature_extraction.text.CountVectorizer.html) библиотеки sklearn.\n",
    "\n",
    "При помощи <code>train_test_split</code> разбейте исходный набор данных на тренеровочную и тестовую выборки с параметрами, указанными в вашем индивидуальном задании. Используйте стратификацию по колонке отклика."
   ],
   "metadata": {
    "id": "-4u24qXmcGwE"
   }
  },
  {
   "cell_type": "code",
   "source": [
    "X = df['text']\n",
    "y = df['author']\n",
    "\n",
    "X_train, X_test, y_train, y_test = train_test_split(X, y, test_size=0.2, random_state=27, stratify=y)"
   ],
   "metadata": {
    "id": "oE0ADGe2cFq2",
    "ExecuteTime": {
     "end_time": "2025-03-24T07:46:01.253711Z",
     "start_time": "2025-03-24T07:46:01.236192Z"
    }
   },
   "outputs": [],
   "execution_count": 12
  },
  {
   "cell_type": "markdown",
   "source": [
    "Обучите модель <code>CountVectorizer</code> на тренировочных данных с параметрами по умолчанию. Примените полученное преобразование для тренировочных и тестовых данных. Определите размерность пространства признаков после преобразования."
   ],
   "metadata": {
    "id": "s8XcJhcJhQX0"
   }
  },
  {
   "cell_type": "code",
   "source": [
    "count_vectorizer = CountVectorizer()\n",
    "X_train_counts = count_vectorizer.fit_transform(X_train)\n",
    "X_test_counts = count_vectorizer.transform(X_test)\n",
    "\n",
    "print(f\"Размерность признаков: {X_train_counts.shape[1]}\")"
   ],
   "metadata": {
    "id": "Xhw6wPtFhr72",
    "ExecuteTime": {
     "end_time": "2025-03-24T07:56:39.936315Z",
     "start_time": "2025-03-24T07:56:37.677470Z"
    }
   },
   "outputs": [
    {
     "name": "stdout",
     "output_type": "stream",
     "text": [
      "Размерность признаков: 36681\n"
     ]
    }
   ],
   "execution_count": 18
  },
  {
   "cell_type": "markdown",
   "source": [
    "Обучите модель <code>MultinomialNB</code> на тренировочных данных, оцените на тестовых. Вычислите <code>f1_score(average='weighted')</code> модели на тестовых данных."
   ],
   "metadata": {
    "id": "MVaY57ITjRgG"
   }
  },
  {
   "cell_type": "code",
   "source": [
    "nb = MultinomialNB()\n",
    "nb.fit(X_train_counts, y_train)\n",
    "y_pred_nb = nb.predict(X_test_counts)\n",
    "\n",
    "f1_weighted_nb = f1_score(y_test, y_pred_nb, average='weighted')\n",
    "report_nb = classification_report(y_test, y_pred_nb, output_dict=True)\n",
    "print(\"f1_score (взвешенный):\", f1_weighted_nb)"
   ],
   "metadata": {
    "id": "BLVHKk13f2Hm",
    "ExecuteTime": {
     "end_time": "2025-03-24T08:04:00.270939Z",
     "start_time": "2025-03-24T08:04:00.064619Z"
    }
   },
   "outputs": [
    {
     "name": "stdout",
     "output_type": "stream",
     "text": [
      "f1_score (взвешенный): 0.8166886369373525\n"
     ]
    }
   ],
   "execution_count": 28
  },
  {
   "cell_type": "markdown",
   "source": [
    "Определите автора с самым низким значением <code>f1_score</code>."
   ],
   "metadata": {
    "id": "gaOETnVEk1ag"
   }
  },
  {
   "cell_type": "code",
   "source": [
    "authors_f1 = {}\n",
    "for k, v in report_nb.items():\n",
    "    if k.isalpha() and isinstance(v, dict) and 'f1-score' in v:\n",
    "        authors_f1[k] = v['f1-score']\n",
    "\n",
    "if authors_f1:\n",
    "    min_f1 = min(authors_f1.values())\n",
    "    worst_authors = sorted([k for k, v in authors_f1.items() if v == min_f1])\n",
    "    worst_author = worst_authors[0]\n",
    "    print(f'Автор с самым низким f1-score: {worst_author}, f1-score: {min_f1}')\n",
    "else:\n",
    "    print('Нет авторов с доступными f1-score.')"
   ],
   "metadata": {
    "id": "gR5XfJcSrrbI",
    "ExecuteTime": {
     "end_time": "2025-03-24T07:59:41.231986Z",
     "start_time": "2025-03-24T07:59:41.225472Z"
    }
   },
   "outputs": [
    {
     "name": "stdout",
     "output_type": "stream",
     "text": [
      "Автор с самым низким f1-score: TanEeLyn, f1-score: 0.3333333333333333\n"
     ]
    }
   ],
   "execution_count": 21
  },
  {
   "cell_type": "markdown",
   "source": [
    "Постройте <code>[confusion_matrix](https://scikit-learn.org/stable/modules/generated/sklearn.metrics.confusion_matrix.html)</code> для тестового набора данных. Определите, с кем из авторов чаще всего путала модель автора с самым низким значением <code>f1_score</code>. Если таких авторов несколько, введите имя первого по алфавиту."
   ],
   "metadata": {
    "id": "SH_StF8iF5LZ"
   }
  },
  {
   "cell_type": "code",
   "source": [
    "cm = confusion_matrix(y_test, y_pred_nb, labels=nb.classes_)\n",
    "worst_idx = list(nb.classes_).index(worst_author)\n",
    "errors = cm[worst_idx].copy()\n",
    "errors[worst_idx] = 0\n",
    "confused_idx = errors.argmax()\n",
    "confused_author = nb.classes_[confused_idx]\n",
    "cm"
   ],
   "metadata": {
    "id": "SsDMhHpwGjEm",
    "ExecuteTime": {
     "end_time": "2025-03-24T08:02:04.528712Z",
     "start_time": "2025-03-24T08:02:04.519507Z"
    }
   },
   "outputs": [
    {
     "data": {
      "text/plain": [
       "array([[16,  0,  0, ...,  0,  0,  0],\n",
       "       [ 0, 19,  0, ...,  0,  0,  0],\n",
       "       [ 0,  0, 18, ...,  0,  0,  0],\n",
       "       ...,\n",
       "       [ 0,  0,  1, ..., 18,  0,  0],\n",
       "       [ 0,  0,  0, ...,  0, 15,  0],\n",
       "       [ 0,  0,  0, ...,  0,  0,  8]])"
      ]
     },
     "execution_count": 25,
     "metadata": {},
     "output_type": "execute_result"
    }
   ],
   "execution_count": 25
  },
  {
   "cell_type": "markdown",
   "source": [
    "Имеет смысл рассмотреть ансамбль моделей, например, <code>[RandomForestClassifier](https://scikit-learn.org/stable/modules/generated/sklearn.ensemble.RandomForestClassifier.html)</code>. Кроме того стоит рассмотреть и другие способы извлечения признаков.\n",
    "\n",
    "При помощи <code>train_test_split</code> разбейте исходный набор данных на тренеровочную и тестовую выборки с параметрами, указанными в вашем индивидуальном задании. Используйте стратификацию по колонке отклика.\n",
    "\n",
    "Обучите модель <code>[TfidfVectorizer](https://scikit-learn.org/stable/modules/generated/sklearn.feature_extraction.text.TfidfVectorizer.html)</code> на тренировочных данных с параметрами по умолчанию. Примените полученное преобразование для тренировочных и тестовых данных.\n",
    "\n",
    "Обучите модель <code>RandomForestClassifier</code> на тренировочных данных c параметрами, указанными в вашем индивидуальном задании. Вычислите <code>f1_score(average='weighted')</code> модели на тестовых данных."
   ],
   "metadata": {
    "id": "lTL9a5q1KNBI"
   }
  },
  {
   "cell_type": "code",
   "source": [
    "X_train_tf, X_test_tf, y_train_tf, y_test_tf = train_test_split(\n",
    "    X, y, test_size=0.2, random_state=27, stratify=y\n",
    ")\n",
    "\n",
    "tfidf = TfidfVectorizer()\n",
    "X_train_tfidf = tfidf.fit_transform(X_train_tf)\n",
    "X_test_tfidf = tfidf.transform(X_test_tf)\n",
    "\n",
    "rf = RandomForestClassifier(random_state=27)\n",
    "rf.fit(X_train_tfidf, y_train_tf)\n",
    "y_pred_rf = rf.predict(X_test_tfidf)\n",
    "f1_weighted_rf = f1_score(y_test_tf, y_pred_rf, average='weighted')\n",
    "print(f\"\"\"\n",
    "Ответы:\n",
    "1. Автор с самым низким F1-score: {worst_author}\n",
    "2. F1-score автора: {authors_f1[worst_author]:.3f}\n",
    "3. Автор путаницы: {confused_author}\n",
    "4. F1-score RandomForest: {f1_weighted_rf:.3f}\n",
    "\"\"\")"
   ],
   "metadata": {
    "id": "NFlGxjqEMe2U",
    "ExecuteTime": {
     "end_time": "2025-03-24T08:02:22.874206Z",
     "start_time": "2025-03-24T08:02:11.881669Z"
    }
   },
   "outputs": [
    {
     "name": "stdout",
     "output_type": "stream",
     "text": [
      "\n",
      "Ответы:\n",
      "1. Автор с самым низким F1-score: TanEeLyn\n",
      "2. F1-score автора: 0.333\n",
      "3. Автор путаницы: PeterHumphrey\n",
      "4. F1-score RandomForest: 0.826\n",
      "\n"
     ]
    }
   ],
   "execution_count": 26
  },
  {
   "cell_type": "markdown",
   "source": [
    "# Предварительная обработка текста"
   ],
   "metadata": {
    "id": "qcaWLhVpQ4xu"
   }
  },
  {
   "cell_type": "markdown",
   "source": [
    "Векторизаторы из библиотеки <code>sklearn</code> частично обрабатывают текст перед построением векторных представлений. Однако, можно попробовать улучшить качество классификации за счет более глубокой предваретильной обработки текста. Для этого стоит рассмотреть возможности библиотеки <code>[NLTK](https://www.nltk.org/)</code> в контексте токенизации, лемматизации и удаления стоп слов."
   ],
   "metadata": {
    "id": "XMoylEGIsoIl"
   }
  },
  {
   "cell_type": "markdown",
   "source": [
    "## Пример предварительной обработки текста средствами NLTK"
   ],
   "metadata": {
    "id": "m7Ju7GO7uzhY"
   }
  },
  {
   "cell_type": "markdown",
   "source": [
    "Импорт необходимых модулей"
   ],
   "metadata": {
    "id": "SaxGf54u2k6U"
   }
  },
  {
   "cell_type": "code",
   "source": [
    "import nltk\n",
    "from nltk.tokenize import word_tokenize\n",
    "from nltk.stem import WordNetLemmatizer\n",
    "\n",
    "# Список стоп-слов\n",
    "nltk.download('stopwords')\n",
    "# Модуль пунктуации\n",
    "nltk.download('punkt')\n",
    "# Модуль wordnet для лемматизации\n",
    "nltk.download('wordnet')\n",
    "nltk.download('punkt_tab')"
   ],
   "metadata": {
    "id": "ecNujskJuuUU",
    "ExecuteTime": {
     "end_time": "2025-03-24T08:06:58.432663Z",
     "start_time": "2025-03-24T08:06:57.415772Z"
    }
   },
   "outputs": [
    {
     "name": "stderr",
     "output_type": "stream",
     "text": [
      "[nltk_data] Downloading package stopwords to\n",
      "[nltk_data]     C:\\Users\\Admin\\AppData\\Roaming\\nltk_data...\n",
      "[nltk_data]   Package stopwords is already up-to-date!\n",
      "[nltk_data] Downloading package punkt to\n",
      "[nltk_data]     C:\\Users\\Admin\\AppData\\Roaming\\nltk_data...\n",
      "[nltk_data]   Package punkt is already up-to-date!\n",
      "[nltk_data] Downloading package wordnet to\n",
      "[nltk_data]     C:\\Users\\Admin\\AppData\\Roaming\\nltk_data...\n",
      "[nltk_data]   Package wordnet is already up-to-date!\n",
      "[nltk_data] Downloading package punkt_tab to\n",
      "[nltk_data]     C:\\Users\\Admin\\AppData\\Roaming\\nltk_data...\n",
      "[nltk_data]   Unzipping tokenizers\\punkt_tab.zip.\n"
     ]
    },
    {
     "data": {
      "text/plain": [
       "True"
      ]
     },
     "execution_count": 32,
     "metadata": {},
     "output_type": "execute_result"
    }
   ],
   "execution_count": 32
  },
  {
   "cell_type": "markdown",
   "source": [
    "Импорт списка стоп-слов"
   ],
   "metadata": {
    "id": "r-kpX8yi3Xac"
   }
  },
  {
   "cell_type": "code",
   "source": [
    "STOPWORDS = set(stopwords.words('english'))\n",
    "print('Фрагмент списка стоп-слов: ', STOPWORDS[:10])"
   ],
   "metadata": {
    "id": "SYfVBuh63N3n",
    "ExecuteTime": {
     "end_time": "2025-03-24T08:07:02.438414Z",
     "start_time": "2025-03-24T08:07:02.433408Z"
    }
   },
   "outputs": [
    {
     "name": "stdout",
     "output_type": "stream",
     "text": [
      "Фрагмент списка стоп-слов:  ['a', 'about', 'above', 'after', 'again', 'against', 'ain', 'all', 'am', 'an']\n"
     ]
    }
   ],
   "execution_count": 33
  },
  {
   "cell_type": "markdown",
   "source": [
    "Токенизация"
   ],
   "metadata": {
    "id": "HhPGo9P30ccC"
   }
  },
  {
   "cell_type": "code",
   "source": [
    "# Тестовый текст\n",
    "txt = df['text'].iloc[0]\n",
    "\n",
    "# Приведение к нижнему регистру\n",
    "txt = txt.lower()\n",
    "\n",
    "# Токенизация\n",
    "tokenized_text = word_tokenize(txt)\n",
    "\n",
    "# Список токенов\n",
    "print(tokenized_text[:10])"
   ],
   "metadata": {
    "id": "sRkYGsqOvRd_",
    "ExecuteTime": {
     "end_time": "2025-03-24T08:07:04.385099Z",
     "start_time": "2025-03-24T08:07:04.299192Z"
    }
   },
   "outputs": [
    {
     "name": "stdout",
     "output_type": "stream",
     "text": [
      "['china', 'is', 'firming', 'up', 'a', 'shortlist', 'of', 'foreign', 'banks', 'that']\n"
     ]
    }
   ],
   "execution_count": 34
  },
  {
   "cell_type": "markdown",
   "source": [
    "Лемматизация"
   ],
   "metadata": {
    "id": "6K4KhDHa0ebl"
   }
  },
  {
   "cell_type": "code",
   "source": [
    "# Модель лемматизации\n",
    "lemmatizer = WordNetLemmatizer()\n",
    "\n",
    "# Лемматизация\n",
    "lemmas = [lemmatizer.lemmatize(token) for token in tokenized_text]\n",
    "\n",
    "# Список лемм\n",
    "print(lemmas[:10])"
   ],
   "metadata": {
    "id": "Hpn001YJxJkM",
    "ExecuteTime": {
     "end_time": "2025-03-24T08:07:12.958028Z",
     "start_time": "2025-03-24T08:07:08.299150Z"
    }
   },
   "outputs": [
    {
     "name": "stdout",
     "output_type": "stream",
     "text": [
      "['china', 'is', 'firming', 'up', 'a', 'shortlist', 'of', 'foreign', 'bank', 'that']\n"
     ]
    }
   ],
   "execution_count": 35
  },
  {
   "cell_type": "markdown",
   "source": [
    "Удаление лемм, входящих в список стоп-слов и небуквенных токенов (при помощи <code>str.isalpha()</code>)."
   ],
   "metadata": {
    "id": "G_JJYHf20lYJ"
   }
  },
  {
   "cell_type": "code",
   "source": [
    "cleaned_text = [word for word in lemmas if word not in STOPWORDS and str.isalpha(word)]\n",
    "print(cleaned_text[:10])\n",
    "print('Лемм до очистки: ', len(lemmas))\n",
    "print('Лемм после очистки: ', len(cleaned_text))"
   ],
   "metadata": {
    "id": "TxRpNgkri7Z3",
    "ExecuteTime": {
     "end_time": "2025-03-24T08:07:15.223117Z",
     "start_time": "2025-03-24T08:07:15.217080Z"
    }
   },
   "outputs": [
    {
     "name": "stdout",
     "output_type": "stream",
     "text": [
      "['china', 'firming', 'shortlist', 'foreign', 'bank', 'allowed', 'local', 'renminbi', 'currency', 'business']\n",
      "Лемм до очистки:  479\n",
      "Лемм после очистки:  213\n"
     ]
    }
   ],
   "execution_count": 36
  },
  {
   "cell_type": "markdown",
   "source": [
    "## Функция предварительной обработки"
   ],
   "metadata": {
    "id": "Gs_hdsUY4GZ8"
   }
  },
  {
   "cell_type": "markdown",
   "source": [
    "Используя код из рассмотренного выше примера, создайте функцию <code>custom_preprocess(txt)</code> для предварительной обработки текста в следующей последовательности:\n",
    "\n",
    "*   Приведение к нижнему регистру\n",
    "*   Токенизация\n",
    "*   Лемматизация\n",
    "*   Удаление стоп-слов и небуквенных токенов\n",
    "\n",
    "На вход функция принимает текст. Возвращать функция должна текстовую строку, в которой все полученные леммы отделены пробелами.\n",
    "\n",
    "\n"
   ],
   "metadata": {
    "id": "F2SVRjUk4KbA"
   }
  },
  {
   "cell_type": "code",
   "source": [
    "def custom_preprocess(txt):\n",
    "  txt = txt.lower()\n",
    "  tokenized_text = word_tokenize(txt)\n",
    "  lemmas = [lemmatizer.lemmatize(token) for token in tokenized_text]\n",
    "    \n",
    "  cleaned_text = [word for word in lemmas if word not in STOPWORDS and str.isalpha(word)]\n",
    "    \n",
    "  return ' '.join(cleaned_text)"
   ],
   "metadata": {
    "id": "o6kORCNn5W1I",
    "ExecuteTime": {
     "end_time": "2025-03-24T08:21:14.669800Z",
     "start_time": "2025-03-24T08:21:14.657197Z"
    }
   },
   "outputs": [],
   "execution_count": 47
  },
  {
   "cell_type": "code",
   "source": [
    "# custom_preprocess(df['text'].iloc[14])\n",
    "# Проверка, что функция описана корректно\n",
    "assert custom_preprocess(df['text'].iloc[14]) == 'threat textile trade war little impact chinese firm unlikely go beyond word company performing poorly company official broker said wednesday company official said got used continual verbal duelling beijing washington concrete measure avoided last minute interest side stake verbal warning finally replaced mutual concession said li shounan head general manager office shanghai lianhua fibre co overall amount threat large come individual company impact even le expect much effect said official shanghai sanmao textile co spokeswoman shanghai jiafeng co ltd said product involved dispute surely impact trade war break though hard immediately ass extent said china annual apparel textile export united state estimated around billion garment textile company listed shanghai shenzhen recent clash trade relation beijing said sunday would temporarily ban import selected textile farm good fruit alcoholic drink december retaliation sanction taken chinese textile washington announced september would cut china textile import quota million retaliation accusing china shipping third country avoid quota agreed upon bilateral textile accord textile company performed poorly past two year due slump industry expect major impact even trade war said one broker china shandong security handful firm closely linked trade possibly affected added care said investment analyst hong kong security brokerage listed textile firm done poorly investor interested chinese official said believe political agenda behind trade threat china penalty announced election believe closely linked president bill clinton political need said one official'"
   ],
   "metadata": {
    "id": "b1aHR45B5e35",
    "ExecuteTime": {
     "end_time": "2025-03-24T08:23:22.807039Z",
     "start_time": "2025-03-24T08:23:22.775497Z"
    }
   },
   "outputs": [],
   "execution_count": 50
  },
  {
   "cell_type": "markdown",
   "metadata": {
    "id": "JAyx-pRIh2lI"
   },
   "source": [
    "# Классификация"
   ]
  },
  {
   "cell_type": "markdown",
   "source": [
    "При помощи <code>train_test_split</code> разбейте исходный набор данных на тренеровочную и тестовую выборки с параметрами, указанными в вашем индивидуальном задании. Используйте стратификацию по колонке отклика.\n",
    "\n",
    "Обучите модель <code>TfidfVectorizer</code> на тренировочных данных, с использованием описанной ранее функции предобработки (<code>preprocessor=custom_preprocess</code>). Примените полученное преобразование для тренировочных и тестовых данных.\n",
    "\n",
    "Определите размерность полученного пространства признаков."
   ],
   "metadata": {
    "id": "qfRaZLH37EUo"
   }
  },
  {
   "cell_type": "code",
   "source": [
    "X_preprocessed = X.apply(custom_preprocess)\n",
    "\n",
    "X_train, X_test, y_train, y_test = train_test_split(\n",
    "    X_preprocessed, \n",
    "    y, \n",
    "    test_size=0.2, \n",
    "    random_state=27, \n",
    "    stratify=y\n",
    ")\n",
    "\n",
    "tfidf = TfidfVectorizer(preprocessor=lambda x: x)\n",
    "X_train_tfidf = tfidf.fit_transform(X_train)\n",
    "X_test_tfidf = tfidf.transform(X_test)\n",
    "\n",
    "print(f\"Размерность пространства признаков: {X_train_tfidf.shape[1]}\")"
   ],
   "metadata": {
    "id": "PvYpjBTI73rk",
    "ExecuteTime": {
     "end_time": "2025-03-24T08:27:58.604402Z",
     "start_time": "2025-03-24T08:26:47.902675Z"
    }
   },
   "outputs": [
    {
     "name": "stdout",
     "output_type": "stream",
     "text": [
      "Размерность пространства признаков: 30257\n"
     ]
    }
   ],
   "execution_count": 51
  },
  {
   "cell_type": "markdown",
   "source": [
    "Обучите модель <code>RandomForestClassifier</code> на тренировочных данных c параметрами, указанными в вашем индивидуальном задании. Вычислите <code>f1_score(average='weighted')</code> модели на тестовых данных."
   ],
   "metadata": {
    "id": "6-xrO_rTDIPk"
   }
  },
  {
   "cell_type": "code",
   "source": [
    "rf = RandomForestClassifier(random_state=27)\n",
    "rf.fit(X_train_tfidf, y_train)\n",
    "\n",
    "y_pred = rf.predict(X_test_tfidf)\n",
    "f1 = f1_score(y_test, y_pred, average='weighted')\n",
    "\n",
    "print(f\"Weighted F1-score: {f1:.3f}\")"
   ],
   "metadata": {
    "id": "4gjT1ODh7-wz",
    "ExecuteTime": {
     "end_time": "2025-03-24T08:28:48.983601Z",
     "start_time": "2025-03-24T08:28:03.910628Z"
    }
   },
   "outputs": [
    {
     "name": "stdout",
     "output_type": "stream",
     "text": [
      "Weighted F1-score: 0.811\n"
     ]
    }
   ],
   "execution_count": 52
  }
 ],
 "metadata": {
  "kernelspec": {
   "display_name": "Python 3",
   "language": "python",
   "name": "python3"
  },
  "language_info": {
   "codemirror_mode": {
    "name": "ipython",
    "version": 3
   },
   "file_extension": ".py",
   "mimetype": "text/x-python",
   "name": "python",
   "nbconvert_exporter": "python",
   "pygments_lexer": "ipython3",
   "version": "3.7.6"
  },
  "colab": {
   "provenance": []
  }
 },
 "nbformat": 4,
 "nbformat_minor": 0
}
