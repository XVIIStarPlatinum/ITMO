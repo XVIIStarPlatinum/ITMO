{
 "nbformat": 4,
 "nbformat_minor": 0,
 "metadata": {
  "colab": {
   "name": "Untitled0.ipynb",
   "provenance": []
  },
  "kernelspec": {
   "name": "python3",
   "display_name": "Python 3 (ipykernel)",
   "language": "python"
  },
  "language_info": {
   "name": "python"
  }
 },
 "cells": [
  {
   "cell_type": "markdown",
   "metadata": {
    "id": "SzZr5Dblh_J5"
   },
   "source": [
    "# Меняем по заданию"
   ]
  },
  {
   "metadata": {
    "ExecuteTime": {
     "end_time": "2025-03-24T09:37:43.872904Z",
     "start_time": "2025-03-24T09:37:43.866457Z"
    }
   },
   "cell_type": "code",
   "source": [
    "import pandas as pd\n",
    "from sklearn.model_selection import train_test_split\n",
    "from sklearn.metrics import accuracy_score, f1_score, precision_score, recall_score, confusion_matrix\n",
    "from sklearn.metrics import classification_report, precision_recall_fscore_support\n",
    "from sklearn.svm import LinearSVC\n",
    "from sklearn import preprocessing\n",
    "from sklearn.preprocessing import MinMaxScaler"
   ],
   "outputs": [],
   "execution_count": 4
  },
  {
   "cell_type": "code",
   "metadata": {
    "id": "j2wrK5uJYWyP",
    "ExecuteTime": {
     "end_time": "2025-03-24T09:38:11.384938Z",
     "start_time": "2025-03-24T09:38:11.378222Z"
    }
   },
   "source": [
    "data_URL = \"sources/UNSW_NB15_training-set.csv\"\n",
    "random_state = 30\n",
    "test_size = 0.4\n",
    "C = 0.11\n",
    "max_iter = 1000\n",
    "dual = False\n",
    "\n",
    "coef = 4\n",
    "index = [8297, 60363]"
   ],
   "outputs": [],
   "execution_count": 6
  },
  {
   "cell_type": "markdown",
   "metadata": {
    "id": "C-PRlVnDh8go"
   },
   "source": [
    "# Запускаем код"
   ]
  },
  {
   "cell_type": "code",
   "metadata": {
    "colab": {
     "base_uri": "https://localhost:8080/"
    },
    "id": "h6newy1uMspJ",
    "outputId": "caf4f1ed-9cb7-4ca6-fe69-795bfd24757c",
    "ExecuteTime": {
     "end_time": "2025-03-24T09:38:54.479895Z",
     "start_time": "2025-03-24T09:38:52.848983Z"
    }
   },
   "source": [
    "labels = []\n",
    "df = pd.read_csv(data_URL, index_col=\"id\")\n",
    "for i in df[\"label\"]:\n",
    "  labels.append(i)\n",
    "\n",
    "df = df.drop([\"proto\", \"service\", \"state\", \"attack_cat\", \"label\"], axis=1)\n",
    "\n",
    "scaler = MinMaxScaler().fit(df)\n",
    "result = scaler.fit_transform(df)\n",
    "\n",
    "x_train, x_test, y_train, y_test = train_test_split(result, labels, random_state=random_state, test_size=test_size)\n",
    "\n",
    "model = LinearSVC(random_state=random_state, C=C, max_iter=max_iter, dual=dual)\n",
    "model.fit(x_train, y_train)\n",
    "predictions = model.predict(x_test)\n",
    "\n",
    "a = classification_report(y_test, predictions, digits=3, output_dict = True)\n",
    "print(f\"Коэффициент {coef} = %.3f\" % model.coef_[0].tolist()[coef])\n",
    "print('F1: ', round(a['macro avg']['f1-score'],3))\n",
    "\n",
    "for i in index:\n",
    "  print(f\"Для пакета с id: {i}, назначен класс:\", model.predict([result[i]])[0])"
   ],
   "outputs": [
    {
     "name": "stdout",
     "output_type": "stream",
     "text": [
      "Коэффициент 4 = -1.160\n",
      "F1:  0.851\n",
      "Для пакета с id: 8297, назначен класс: 1\n",
      "Для пакета с id: 60363, назначен класс: 1\n"
     ]
    }
   ],
   "execution_count": 8
  }
 ]
}
