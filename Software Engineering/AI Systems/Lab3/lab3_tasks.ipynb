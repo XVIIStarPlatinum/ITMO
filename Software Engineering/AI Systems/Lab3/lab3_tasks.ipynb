{
 "cells": [
  {
   "metadata": {},
   "cell_type": "markdown",
   "source": [
    "# Лабораторная 3. Линейная регрессия\n",
    "## Задание\n",
    "- Выбор датасетов:\n",
    "    - Студенты с нечетным порядковым номером в группе должны использовать про обучение студентов\n",
    "1. Получите и визуалируйте (графически) статистику по датасету (включая количество, среднее значение, стандартное отклонение, минимум, максимум и разные квантили).\n",
    "2. Проведите предварительно обработку данных, включая обработку отсутствующих значений, кодирование категориальных признаков и нормировка.\n",
    "3. Разделите данные на обучающий и тестовый наборы данных.\n",
    "4. Реализуйте линейную регрессию с использованием метода наименьших квадратов без использования сторонних библиотек, кроме NumPy и Pandas (для использования коэффициентов использовать библиотеки тоже нельзя). Использовать минимизацию суммы квадратов между фактическими и предсказанными значениями для нахождения оптимальных коэффициентов.\n",
    "5. Постройте три модели с различными наборами признаков. Для каждой модели проведите оценку производительности, используя метрику коэффициент детерминации, чтобы измеритьЮ насколько хорошо модель соответствует данным.\n",
    "6. Сравните результаты трех моделей и сделайте выводы о том, какие признаки работают лучше всего для каждой модели.\n",
    "- Бонусное задание: Ввести синтетический признак при построении модели.\n",
    "## Решение\n",
    "Импортируем необходимые библиотеки:"
   ],
   "id": "ace686b69dbbb2f4"
  },
  {
   "cell_type": "code",
   "id": "initial_id",
   "metadata": {
    "collapsed": true,
    "ExecuteTime": {
     "end_time": "2024-10-11T09:53:11.636779Z",
     "start_time": "2024-10-11T09:53:08.854459Z"
    }
   },
   "source": [
    "import pandas as pd\n",
    "import numpy as np\n",
    "import matplotlib.pyplot as plt\n",
    "import matplotlib.colors as colors"
   ],
   "outputs": [],
   "execution_count": 3
  },
  {
   "metadata": {},
   "cell_type": "markdown",
   "source": [
    "## 1. Получите и визуализируйте (графически) статистику по набору данных (включая количество, среднее значение, стандартное отклонение, минимум, максимум и разные квантили).\n",
    "Считываем данные:"
   ],
   "id": "96bb8d2b34f3c566"
  },
  {
   "metadata": {
    "ExecuteTime": {
     "end_time": "2024-10-11T09:53:13.138261Z",
     "start_time": "2024-10-11T09:53:13.062798Z"
    }
   },
   "cell_type": "code",
   "source": [
    "file_path = './student_performance.csv'\n",
    "data = pd.read_csv(file_path)\n",
    "data"
   ],
   "id": "5ccb76c95589744b",
   "outputs": [
    {
     "data": {
      "text/plain": [
       "      Hours Studied  Previous Scores Extracurricular Activities  Sleep Hours  \\\n",
       "0                 7               99                        Yes            9   \n",
       "1                 4               82                         No            4   \n",
       "2                 8               51                        Yes            7   \n",
       "3                 5               52                        Yes            5   \n",
       "4                 7               75                         No            8   \n",
       "...             ...              ...                        ...          ...   \n",
       "9995              1               49                        Yes            4   \n",
       "9996              7               64                        Yes            8   \n",
       "9997              6               83                        Yes            8   \n",
       "9998              9               97                        Yes            7   \n",
       "9999              7               74                         No            8   \n",
       "\n",
       "      Sample Question Papers Practiced  Performance Index  \n",
       "0                                    1               91.0  \n",
       "1                                    2               65.0  \n",
       "2                                    2               45.0  \n",
       "3                                    2               36.0  \n",
       "4                                    5               66.0  \n",
       "...                                ...                ...  \n",
       "9995                                 2               23.0  \n",
       "9996                                 5               58.0  \n",
       "9997                                 5               74.0  \n",
       "9998                                 0               95.0  \n",
       "9999                                 1               64.0  \n",
       "\n",
       "[10000 rows x 6 columns]"
      ],
      "text/html": [
       "<div>\n",
       "<style scoped>\n",
       "    .dataframe tbody tr th:only-of-type {\n",
       "        vertical-align: middle;\n",
       "    }\n",
       "\n",
       "    .dataframe tbody tr th {\n",
       "        vertical-align: top;\n",
       "    }\n",
       "\n",
       "    .dataframe thead th {\n",
       "        text-align: right;\n",
       "    }\n",
       "</style>\n",
       "<table border=\"1\" class=\"dataframe\">\n",
       "  <thead>\n",
       "    <tr style=\"text-align: right;\">\n",
       "      <th></th>\n",
       "      <th>Hours Studied</th>\n",
       "      <th>Previous Scores</th>\n",
       "      <th>Extracurricular Activities</th>\n",
       "      <th>Sleep Hours</th>\n",
       "      <th>Sample Question Papers Practiced</th>\n",
       "      <th>Performance Index</th>\n",
       "    </tr>\n",
       "  </thead>\n",
       "  <tbody>\n",
       "    <tr>\n",
       "      <th>0</th>\n",
       "      <td>7</td>\n",
       "      <td>99</td>\n",
       "      <td>Yes</td>\n",
       "      <td>9</td>\n",
       "      <td>1</td>\n",
       "      <td>91.0</td>\n",
       "    </tr>\n",
       "    <tr>\n",
       "      <th>1</th>\n",
       "      <td>4</td>\n",
       "      <td>82</td>\n",
       "      <td>No</td>\n",
       "      <td>4</td>\n",
       "      <td>2</td>\n",
       "      <td>65.0</td>\n",
       "    </tr>\n",
       "    <tr>\n",
       "      <th>2</th>\n",
       "      <td>8</td>\n",
       "      <td>51</td>\n",
       "      <td>Yes</td>\n",
       "      <td>7</td>\n",
       "      <td>2</td>\n",
       "      <td>45.0</td>\n",
       "    </tr>\n",
       "    <tr>\n",
       "      <th>3</th>\n",
       "      <td>5</td>\n",
       "      <td>52</td>\n",
       "      <td>Yes</td>\n",
       "      <td>5</td>\n",
       "      <td>2</td>\n",
       "      <td>36.0</td>\n",
       "    </tr>\n",
       "    <tr>\n",
       "      <th>4</th>\n",
       "      <td>7</td>\n",
       "      <td>75</td>\n",
       "      <td>No</td>\n",
       "      <td>8</td>\n",
       "      <td>5</td>\n",
       "      <td>66.0</td>\n",
       "    </tr>\n",
       "    <tr>\n",
       "      <th>...</th>\n",
       "      <td>...</td>\n",
       "      <td>...</td>\n",
       "      <td>...</td>\n",
       "      <td>...</td>\n",
       "      <td>...</td>\n",
       "      <td>...</td>\n",
       "    </tr>\n",
       "    <tr>\n",
       "      <th>9995</th>\n",
       "      <td>1</td>\n",
       "      <td>49</td>\n",
       "      <td>Yes</td>\n",
       "      <td>4</td>\n",
       "      <td>2</td>\n",
       "      <td>23.0</td>\n",
       "    </tr>\n",
       "    <tr>\n",
       "      <th>9996</th>\n",
       "      <td>7</td>\n",
       "      <td>64</td>\n",
       "      <td>Yes</td>\n",
       "      <td>8</td>\n",
       "      <td>5</td>\n",
       "      <td>58.0</td>\n",
       "    </tr>\n",
       "    <tr>\n",
       "      <th>9997</th>\n",
       "      <td>6</td>\n",
       "      <td>83</td>\n",
       "      <td>Yes</td>\n",
       "      <td>8</td>\n",
       "      <td>5</td>\n",
       "      <td>74.0</td>\n",
       "    </tr>\n",
       "    <tr>\n",
       "      <th>9998</th>\n",
       "      <td>9</td>\n",
       "      <td>97</td>\n",
       "      <td>Yes</td>\n",
       "      <td>7</td>\n",
       "      <td>0</td>\n",
       "      <td>95.0</td>\n",
       "    </tr>\n",
       "    <tr>\n",
       "      <th>9999</th>\n",
       "      <td>7</td>\n",
       "      <td>74</td>\n",
       "      <td>No</td>\n",
       "      <td>8</td>\n",
       "      <td>1</td>\n",
       "      <td>64.0</td>\n",
       "    </tr>\n",
       "  </tbody>\n",
       "</table>\n",
       "<p>10000 rows × 6 columns</p>\n",
       "</div>"
      ]
     },
     "execution_count": 4,
     "metadata": {},
     "output_type": "execute_result"
    }
   ],
   "execution_count": 4
  },
  {
   "metadata": {
    "ExecuteTime": {
     "end_time": "2024-10-11T09:53:16.721135Z",
     "start_time": "2024-10-11T09:53:16.672842Z"
    }
   },
   "cell_type": "code",
   "source": "data.describe()",
   "id": "a7bf73ef56feafde",
   "outputs": [
    {
     "data": {
      "text/plain": [
       "       Hours Studied  Previous Scores   Sleep Hours  \\\n",
       "count   10000.000000     10000.000000  10000.000000   \n",
       "mean        4.992900        69.445700      6.530600   \n",
       "std         2.589309        17.343152      1.695863   \n",
       "min         1.000000        40.000000      4.000000   \n",
       "25%         3.000000        54.000000      5.000000   \n",
       "50%         5.000000        69.000000      7.000000   \n",
       "75%         7.000000        85.000000      8.000000   \n",
       "max         9.000000        99.000000      9.000000   \n",
       "\n",
       "       Sample Question Papers Practiced  Performance Index  \n",
       "count                      10000.000000       10000.000000  \n",
       "mean                           4.583300          55.224800  \n",
       "std                            2.867348          19.212558  \n",
       "min                            0.000000          10.000000  \n",
       "25%                            2.000000          40.000000  \n",
       "50%                            5.000000          55.000000  \n",
       "75%                            7.000000          71.000000  \n",
       "max                            9.000000         100.000000  "
      ],
      "text/html": [
       "<div>\n",
       "<style scoped>\n",
       "    .dataframe tbody tr th:only-of-type {\n",
       "        vertical-align: middle;\n",
       "    }\n",
       "\n",
       "    .dataframe tbody tr th {\n",
       "        vertical-align: top;\n",
       "    }\n",
       "\n",
       "    .dataframe thead th {\n",
       "        text-align: right;\n",
       "    }\n",
       "</style>\n",
       "<table border=\"1\" class=\"dataframe\">\n",
       "  <thead>\n",
       "    <tr style=\"text-align: right;\">\n",
       "      <th></th>\n",
       "      <th>Hours Studied</th>\n",
       "      <th>Previous Scores</th>\n",
       "      <th>Sleep Hours</th>\n",
       "      <th>Sample Question Papers Practiced</th>\n",
       "      <th>Performance Index</th>\n",
       "    </tr>\n",
       "  </thead>\n",
       "  <tbody>\n",
       "    <tr>\n",
       "      <th>count</th>\n",
       "      <td>10000.000000</td>\n",
       "      <td>10000.000000</td>\n",
       "      <td>10000.000000</td>\n",
       "      <td>10000.000000</td>\n",
       "      <td>10000.000000</td>\n",
       "    </tr>\n",
       "    <tr>\n",
       "      <th>mean</th>\n",
       "      <td>4.992900</td>\n",
       "      <td>69.445700</td>\n",
       "      <td>6.530600</td>\n",
       "      <td>4.583300</td>\n",
       "      <td>55.224800</td>\n",
       "    </tr>\n",
       "    <tr>\n",
       "      <th>std</th>\n",
       "      <td>2.589309</td>\n",
       "      <td>17.343152</td>\n",
       "      <td>1.695863</td>\n",
       "      <td>2.867348</td>\n",
       "      <td>19.212558</td>\n",
       "    </tr>\n",
       "    <tr>\n",
       "      <th>min</th>\n",
       "      <td>1.000000</td>\n",
       "      <td>40.000000</td>\n",
       "      <td>4.000000</td>\n",
       "      <td>0.000000</td>\n",
       "      <td>10.000000</td>\n",
       "    </tr>\n",
       "    <tr>\n",
       "      <th>25%</th>\n",
       "      <td>3.000000</td>\n",
       "      <td>54.000000</td>\n",
       "      <td>5.000000</td>\n",
       "      <td>2.000000</td>\n",
       "      <td>40.000000</td>\n",
       "    </tr>\n",
       "    <tr>\n",
       "      <th>50%</th>\n",
       "      <td>5.000000</td>\n",
       "      <td>69.000000</td>\n",
       "      <td>7.000000</td>\n",
       "      <td>5.000000</td>\n",
       "      <td>55.000000</td>\n",
       "    </tr>\n",
       "    <tr>\n",
       "      <th>75%</th>\n",
       "      <td>7.000000</td>\n",
       "      <td>85.000000</td>\n",
       "      <td>8.000000</td>\n",
       "      <td>7.000000</td>\n",
       "      <td>71.000000</td>\n",
       "    </tr>\n",
       "    <tr>\n",
       "      <th>max</th>\n",
       "      <td>9.000000</td>\n",
       "      <td>99.000000</td>\n",
       "      <td>9.000000</td>\n",
       "      <td>9.000000</td>\n",
       "      <td>100.000000</td>\n",
       "    </tr>\n",
       "  </tbody>\n",
       "</table>\n",
       "</div>"
      ]
     },
     "execution_count": 5,
     "metadata": {},
     "output_type": "execute_result"
    }
   ],
   "execution_count": 5
  },
  {
   "metadata": {},
   "cell_type": "markdown",
   "source": "Визуализируем статистику:",
   "id": "e78f4c408ccb0017"
  },
  {
   "metadata": {
    "ExecuteTime": {
     "end_time": "2024-10-11T09:53:20.405212Z",
     "start_time": "2024-10-11T09:53:18.905559Z"
    }
   },
   "cell_type": "code",
   "source": [
    "desc = data.describe()\n",
    "\n",
    "for col in data.columns:\n",
    "    if col == 'Extracurricular Activities':\n",
    "        continue\n",
    "    plt.figure()\n",
    "    data[col].hist(bins=len(data[col].unique()))\n",
    "    \n",
    "    mean = desc[col]['mean']\n",
    "    std = desc[col]['std']\n",
    "    min_val = desc[col]['min']\n",
    "    q25th = desc[col]['25%']\n",
    "    median = desc[col]['50%']\n",
    "    q75th = desc[col]['75%']\n",
    "    max_val = desc[col]['max']\n",
    "    \n",
    "    \n",
    "    plt.axvline(mean, color='r', linestyle='-', linewidth=2)\n",
    "    plt.text(mean, plt.ylim()[1]*0.9, 'Mean', color='r', ha='center')\n",
    "    \n",
    "    plt.axvline(mean + std, color='w', linestyle='--', linewidth=1)\n",
    "    plt.text(mean + std, plt.ylim()[1]*0.8, 'Mean + σ', color='w', ha='center')\n",
    "    \n",
    "    plt.axvline(mean - std, color='w', linestyle='--', linewidth=1)\n",
    "    plt.text(mean - std, plt.ylim()[1]*0.8, 'Mean - σ', color='w', ha='center')\n",
    "    \n",
    "    plt.axvline(min_val, color='k', linestyle=':', linewidth=2)\n",
    "    plt.text(min_val, plt.ylim()[1]*0.9, 'Min', color='k', ha='center')\n",
    "    \n",
    "    plt.axvline(q25th, color='aliceblue', linestyle='--', linewidth=1)\n",
    "    plt.text(q25th, plt.ylim()[1]*0.7, '25th%', color='aliceblue', ha='center')\n",
    "    \n",
    "    plt.axvline(median, color='aliceblue', linestyle='--', linewidth=1)\n",
    "    plt.text(median, plt.ylim()[1]*0.7, 'Median', color='aliceblue', ha='center')\n",
    "    \n",
    "    plt.axvline(q75th, color='aliceblue', linestyle='--', linewidth=1)\n",
    "    plt.text(q75th, plt.ylim()[1]*0.7, '75th%', color='aliceblue', ha='center')\n",
    "    \n",
    "    plt.axvline(max_val, color='k', linestyle=':', linewidth=2)\n",
    "    plt.text(max_val, plt.ylim()[1]*0.9, 'Max', color='k', ha='center')\n",
    "    \n",
    "    plt.xlabel('amount of students')\n",
    "    plt.title(col)\n",
    "    plt.show()"
   ],
   "id": "557cd10cd2c206a4",
   "outputs": [
    {
     "data": {
      "text/plain": [
       "<Figure size 640x480 with 1 Axes>"
      ],
      "image/png": "[encoded data removed]"
     },
     "metadata": {},
     "output_type": "display_data"
    },
    {
     "data": {
      "text/plain": [
       "<Figure size 640x480 with 1 Axes>"
      ],
      "image/png": "[encoded data removed]"
     },
     "metadata": {},
     "output_type": "display_data"
    },
    {
     "data": {
      "text/plain": [
       "<Figure size 640x480 with 1 Axes>"
      ],
      "image/png": "[encoded data removed]"
     },
     "metadata": {},
     "output_type": "display_data"
    },
    {
     "data": {
      "text/plain": [
       "<Figure size 640x480 with 1 Axes>"
      ],
      "image/png": "[encoded data removed]"
     },
     "metadata": {},
     "output_type": "display_data"
    },
    {
     "data": {
      "text/plain": [
       "<Figure size 640x480 with 1 Axes>"
      ],
      "image/png": "[encoded data removed]"
     },
     "metadata": {},
     "output_type": "display_data"
    }
   ],
   "execution_count": 6
  },
  {
   "metadata": {},
   "cell_type": "markdown",
   "source": [
    "## 2. Проведите предварительную обработку данных, включая обработку отсутствующих значений, кодирование категориальных признаков и нормировка.\n",
    "Удаляем строки с пропущенными занятиями:"
   ],
   "id": "c25473e7e1cd8b5c"
  },
  {
   "metadata": {
    "ExecuteTime": {
     "end_time": "2024-10-11T09:53:59.765836Z",
     "start_time": "2024-10-11T09:53:59.751376Z"
    }
   },
   "cell_type": "code",
   "source": [
    "missing_values = data.isnull().sum()\n",
    "print(\"Отсутствующие значения в каждом колонне:\")\n",
    "print(missing_values)\n",
    "deleted_rows = data.isnull().any(axis=1).sum()\n",
    "data = data.dropna()\n",
    "print(\"Удаленные строки:\", deleted_rows)"
   ],
   "id": "de2871f73db83c2a",
   "outputs": [
    {
     "name": "stdout",
     "output_type": "stream",
     "text": [
      "Отсутствующие значения в каждом колонне:\n",
      "Hours Studied                       0\n",
      "Previous Scores                     0\n",
      "Extracurricular Activities          0\n",
      "Sleep Hours                         0\n",
      "Sample Question Papers Practiced    0\n",
      "Performance Index                   0\n",
      "dtype: int64\n",
      "Удаленные строки: 0\n"
     ]
    }
   ],
   "execution_count": 8
  },
  {
   "metadata": {},
   "cell_type": "markdown",
   "source": "Потом, кодируем категориальные признаки:",
   "id": "d9cbcedc36c8cbaa"
  },
  {
   "metadata": {
    "ExecuteTime": {
     "end_time": "2024-10-11T09:54:48.229642Z",
     "start_time": "2024-10-11T09:54:48.203978Z"
    }
   },
   "cell_type": "code",
   "source": [
    "data['Extracurricular Activities'] = data['Extracurricular Activities'].map({'Yes': 1, 'No': 0})\n",
    "data"
   ],
   "id": "8b401d4f9475ecd1",
   "outputs": [
    {
     "data": {
      "text/plain": [
       "      Hours Studied  Previous Scores  Extracurricular Activities  Sleep Hours  \\\n",
       "0                 7               99                           1            9   \n",
       "1                 4               82                           0            4   \n",
       "2                 8               51                           1            7   \n",
       "3                 5               52                           1            5   \n",
       "4                 7               75                           0            8   \n",
       "...             ...              ...                         ...          ...   \n",
       "9995              1               49                           1            4   \n",
       "9996              7               64                           1            8   \n",
       "9997              6               83                           1            8   \n",
       "9998              9               97                           1            7   \n",
       "9999              7               74                           0            8   \n",
       "\n",
       "      Sample Question Papers Practiced  Performance Index  \n",
       "0                                    1               91.0  \n",
       "1                                    2               65.0  \n",
       "2                                    2               45.0  \n",
       "3                                    2               36.0  \n",
       "4                                    5               66.0  \n",
       "...                                ...                ...  \n",
       "9995                                 2               23.0  \n",
       "9996                                 5               58.0  \n",
       "9997                                 5               74.0  \n",
       "9998                                 0               95.0  \n",
       "9999                                 1               64.0  \n",
       "\n",
       "[10000 rows x 6 columns]"
      ],
      "text/html": [
       "<div>\n",
       "<style scoped>\n",
       "    .dataframe tbody tr th:only-of-type {\n",
       "        vertical-align: middle;\n",
       "    }\n",
       "\n",
       "    .dataframe tbody tr th {\n",
       "        vertical-align: top;\n",
       "    }\n",
       "\n",
       "    .dataframe thead th {\n",
       "        text-align: right;\n",
       "    }\n",
       "</style>\n",
       "<table border=\"1\" class=\"dataframe\">\n",
       "  <thead>\n",
       "    <tr style=\"text-align: right;\">\n",
       "      <th></th>\n",
       "      <th>Hours Studied</th>\n",
       "      <th>Previous Scores</th>\n",
       "      <th>Extracurricular Activities</th>\n",
       "      <th>Sleep Hours</th>\n",
       "      <th>Sample Question Papers Practiced</th>\n",
       "      <th>Performance Index</th>\n",
       "    </tr>\n",
       "  </thead>\n",
       "  <tbody>\n",
       "    <tr>\n",
       "      <th>0</th>\n",
       "      <td>7</td>\n",
       "      <td>99</td>\n",
       "      <td>1</td>\n",
       "      <td>9</td>\n",
       "      <td>1</td>\n",
       "      <td>91.0</td>\n",
       "    </tr>\n",
       "    <tr>\n",
       "      <th>1</th>\n",
       "      <td>4</td>\n",
       "      <td>82</td>\n",
       "      <td>0</td>\n",
       "      <td>4</td>\n",
       "      <td>2</td>\n",
       "      <td>65.0</td>\n",
       "    </tr>\n",
       "    <tr>\n",
       "      <th>2</th>\n",
       "      <td>8</td>\n",
       "      <td>51</td>\n",
       "      <td>1</td>\n",
       "      <td>7</td>\n",
       "      <td>2</td>\n",
       "      <td>45.0</td>\n",
       "    </tr>\n",
       "    <tr>\n",
       "      <th>3</th>\n",
       "      <td>5</td>\n",
       "      <td>52</td>\n",
       "      <td>1</td>\n",
       "      <td>5</td>\n",
       "      <td>2</td>\n",
       "      <td>36.0</td>\n",
       "    </tr>\n",
       "    <tr>\n",
       "      <th>4</th>\n",
       "      <td>7</td>\n",
       "      <td>75</td>\n",
       "      <td>0</td>\n",
       "      <td>8</td>\n",
       "      <td>5</td>\n",
       "      <td>66.0</td>\n",
       "    </tr>\n",
       "    <tr>\n",
       "      <th>...</th>\n",
       "      <td>...</td>\n",
       "      <td>...</td>\n",
       "      <td>...</td>\n",
       "      <td>...</td>\n",
       "      <td>...</td>\n",
       "      <td>...</td>\n",
       "    </tr>\n",
       "    <tr>\n",
       "      <th>9995</th>\n",
       "      <td>1</td>\n",
       "      <td>49</td>\n",
       "      <td>1</td>\n",
       "      <td>4</td>\n",
       "      <td>2</td>\n",
       "      <td>23.0</td>\n",
       "    </tr>\n",
       "    <tr>\n",
       "      <th>9996</th>\n",
       "      <td>7</td>\n",
       "      <td>64</td>\n",
       "      <td>1</td>\n",
       "      <td>8</td>\n",
       "      <td>5</td>\n",
       "      <td>58.0</td>\n",
       "    </tr>\n",
       "    <tr>\n",
       "      <th>9997</th>\n",
       "      <td>6</td>\n",
       "      <td>83</td>\n",
       "      <td>1</td>\n",
       "      <td>8</td>\n",
       "      <td>5</td>\n",
       "      <td>74.0</td>\n",
       "    </tr>\n",
       "    <tr>\n",
       "      <th>9998</th>\n",
       "      <td>9</td>\n",
       "      <td>97</td>\n",
       "      <td>1</td>\n",
       "      <td>7</td>\n",
       "      <td>0</td>\n",
       "      <td>95.0</td>\n",
       "    </tr>\n",
       "    <tr>\n",
       "      <th>9999</th>\n",
       "      <td>7</td>\n",
       "      <td>74</td>\n",
       "      <td>0</td>\n",
       "      <td>8</td>\n",
       "      <td>1</td>\n",
       "      <td>64.0</td>\n",
       "    </tr>\n",
       "  </tbody>\n",
       "</table>\n",
       "<p>10000 rows × 6 columns</p>\n",
       "</div>"
      ]
     },
     "execution_count": 9,
     "metadata": {},
     "output_type": "execute_result"
    }
   ],
   "execution_count": 9
  },
  {
   "metadata": {},
   "cell_type": "markdown",
   "source": [
    "Затем нормируем данные. По формуле он выглядит так:\\\n",
    "$x'_i = \\frac{x_i - min(x)}{max(x) - min(x)}$\n"
   ],
   "id": "cd358428f1f88ee2"
  },
  {
   "metadata": {
    "ExecuteTime": {
     "end_time": "2024-10-11T11:44:02.103463Z",
     "start_time": "2024-10-11T11:44:02.034259Z"
    }
   },
   "cell_type": "code",
   "source": [
    "data = (data - data.min()) / (data.max() - data.min())\n",
    "data"
   ],
   "id": "f9f87fc1f5e49937",
   "outputs": [
    {
     "data": {
      "text/plain": [
       "      Hours Studied  Previous Scores  Extracurricular Activities  Sleep Hours  \\\n",
       "0             0.750         1.000000                         1.0          1.0   \n",
       "1             0.375         0.711864                         0.0          0.0   \n",
       "2             0.875         0.186441                         1.0          0.6   \n",
       "3             0.500         0.203390                         1.0          0.2   \n",
       "4             0.750         0.593220                         0.0          0.8   \n",
       "...             ...              ...                         ...          ...   \n",
       "9995          0.000         0.152542                         1.0          0.0   \n",
       "9996          0.750         0.406780                         1.0          0.8   \n",
       "9997          0.625         0.728814                         1.0          0.8   \n",
       "9998          1.000         0.966102                         1.0          0.6   \n",
       "9999          0.750         0.576271                         0.0          0.8   \n",
       "\n",
       "      Sample Question Papers Practiced  Performance Index  \n",
       "0                             0.111111           0.900000  \n",
       "1                             0.222222           0.611111  \n",
       "2                             0.222222           0.388889  \n",
       "3                             0.222222           0.288889  \n",
       "4                             0.555556           0.622222  \n",
       "...                                ...                ...  \n",
       "9995                          0.222222           0.144444  \n",
       "9996                          0.555556           0.533333  \n",
       "9997                          0.555556           0.711111  \n",
       "9998                          0.000000           0.944444  \n",
       "9999                          0.111111           0.600000  \n",
       "\n",
       "[10000 rows x 6 columns]"
      ],
      "text/html": [
       "<div>\n",
       "<style scoped>\n",
       "    .dataframe tbody tr th:only-of-type {\n",
       "        vertical-align: middle;\n",
       "    }\n",
       "\n",
       "    .dataframe tbody tr th {\n",
       "        vertical-align: top;\n",
       "    }\n",
       "\n",
       "    .dataframe thead th {\n",
       "        text-align: right;\n",
       "    }\n",
       "</style>\n",
       "<table border=\"1\" class=\"dataframe\">\n",
       "  <thead>\n",
       "    <tr style=\"text-align: right;\">\n",
       "      <th></th>\n",
       "      <th>Hours Studied</th>\n",
       "      <th>Previous Scores</th>\n",
       "      <th>Extracurricular Activities</th>\n",
       "      <th>Sleep Hours</th>\n",
       "      <th>Sample Question Papers Practiced</th>\n",
       "      <th>Performance Index</th>\n",
       "    </tr>\n",
       "  </thead>\n",
       "  <tbody>\n",
       "    <tr>\n",
       "      <th>0</th>\n",
       "      <td>0.750</td>\n",
       "      <td>1.000000</td>\n",
       "      <td>1.0</td>\n",
       "      <td>1.0</td>\n",
       "      <td>0.111111</td>\n",
       "      <td>0.900000</td>\n",
       "    </tr>\n",
       "    <tr>\n",
       "      <th>1</th>\n",
       "      <td>0.375</td>\n",
       "      <td>0.711864</td>\n",
       "      <td>0.0</td>\n",
       "      <td>0.0</td>\n",
       "      <td>0.222222</td>\n",
       "      <td>0.611111</td>\n",
       "    </tr>\n",
       "    <tr>\n",
       "      <th>2</th>\n",
       "      <td>0.875</td>\n",
       "      <td>0.186441</td>\n",
       "      <td>1.0</td>\n",
       "      <td>0.6</td>\n",
       "      <td>0.222222</td>\n",
       "      <td>0.388889</td>\n",
       "    </tr>\n",
       "    <tr>\n",
       "      <th>3</th>\n",
       "      <td>0.500</td>\n",
       "      <td>0.203390</td>\n",
       "      <td>1.0</td>\n",
       "      <td>0.2</td>\n",
       "      <td>0.222222</td>\n",
       "      <td>0.288889</td>\n",
       "    </tr>\n",
       "    <tr>\n",
       "      <th>4</th>\n",
       "      <td>0.750</td>\n",
       "      <td>0.593220</td>\n",
       "      <td>0.0</td>\n",
       "      <td>0.8</td>\n",
       "      <td>0.555556</td>\n",
       "      <td>0.622222</td>\n",
       "    </tr>\n",
       "    <tr>\n",
       "      <th>...</th>\n",
       "      <td>...</td>\n",
       "      <td>...</td>\n",
       "      <td>...</td>\n",
       "      <td>...</td>\n",
       "      <td>...</td>\n",
       "      <td>...</td>\n",
       "    </tr>\n",
       "    <tr>\n",
       "      <th>9995</th>\n",
       "      <td>0.000</td>\n",
       "      <td>0.152542</td>\n",
       "      <td>1.0</td>\n",
       "      <td>0.0</td>\n",
       "      <td>0.222222</td>\n",
       "      <td>0.144444</td>\n",
       "    </tr>\n",
       "    <tr>\n",
       "      <th>9996</th>\n",
       "      <td>0.750</td>\n",
       "      <td>0.406780</td>\n",
       "      <td>1.0</td>\n",
       "      <td>0.8</td>\n",
       "      <td>0.555556</td>\n",
       "      <td>0.533333</td>\n",
       "    </tr>\n",
       "    <tr>\n",
       "      <th>9997</th>\n",
       "      <td>0.625</td>\n",
       "      <td>0.728814</td>\n",
       "      <td>1.0</td>\n",
       "      <td>0.8</td>\n",
       "      <td>0.555556</td>\n",
       "      <td>0.711111</td>\n",
       "    </tr>\n",
       "    <tr>\n",
       "      <th>9998</th>\n",
       "      <td>1.000</td>\n",
       "      <td>0.966102</td>\n",
       "      <td>1.0</td>\n",
       "      <td>0.6</td>\n",
       "      <td>0.000000</td>\n",
       "      <td>0.944444</td>\n",
       "    </tr>\n",
       "    <tr>\n",
       "      <th>9999</th>\n",
       "      <td>0.750</td>\n",
       "      <td>0.576271</td>\n",
       "      <td>0.0</td>\n",
       "      <td>0.8</td>\n",
       "      <td>0.111111</td>\n",
       "      <td>0.600000</td>\n",
       "    </tr>\n",
       "  </tbody>\n",
       "</table>\n",
       "<p>10000 rows × 6 columns</p>\n",
       "</div>"
      ]
     },
     "execution_count": 10,
     "metadata": {},
     "output_type": "execute_result"
    }
   ],
   "execution_count": 10
  },
  {
   "metadata": {
    "ExecuteTime": {
     "end_time": "2024-10-11T11:59:09.622199Z",
     "start_time": "2024-10-11T11:59:09.595038Z"
    }
   },
   "cell_type": "code",
   "source": "data.describe()",
   "id": "2cb2d1a2e2077628",
   "outputs": [
    {
     "data": {
      "text/plain": [
       "       Hours Studied  Previous Scores  Extracurricular Activities  \\\n",
       "count   10000.000000     10000.000000                10000.000000   \n",
       "mean        0.499113         0.499080                    0.494800   \n",
       "std         0.323664         0.293952                    0.499998   \n",
       "min         0.000000         0.000000                    0.000000   \n",
       "25%         0.250000         0.237288                    0.000000   \n",
       "50%         0.500000         0.491525                    0.000000   \n",
       "75%         0.750000         0.762712                    1.000000   \n",
       "max         1.000000         1.000000                    1.000000   \n",
       "\n",
       "        Sleep Hours  Sample Question Papers Practiced  Performance Index  \\\n",
       "count  10000.000000                      10000.000000       10000.000000   \n",
       "mean       0.506120                          0.509256           0.502498   \n",
       "std        0.339173                          0.318594           0.213473   \n",
       "min        0.000000                          0.000000           0.000000   \n",
       "25%        0.200000                          0.222222           0.333333   \n",
       "50%        0.600000                          0.555556           0.500000   \n",
       "75%        0.800000                          0.777778           0.677778   \n",
       "max        1.000000                          1.000000           1.000000   \n",
       "\n",
       "        Preparation     Time Left  \n",
       "count  10000.000000  1.000000e+04  \n",
       "mean       0.255976  2.843947e-16  \n",
       "std        0.252859  1.000000e+00  \n",
       "min        0.000000 -2.089016e+00  \n",
       "25%        0.041667 -7.959679e-01  \n",
       "50%        0.166667 -1.494440e-01  \n",
       "75%        0.416667  8.203418e-01  \n",
       "max        1.000000  2.113390e+00  "
      ],
      "text/html": [
       "<div>\n",
       "<style scoped>\n",
       "    .dataframe tbody tr th:only-of-type {\n",
       "        vertical-align: middle;\n",
       "    }\n",
       "\n",
       "    .dataframe tbody tr th {\n",
       "        vertical-align: top;\n",
       "    }\n",
       "\n",
       "    .dataframe thead th {\n",
       "        text-align: right;\n",
       "    }\n",
       "</style>\n",
       "<table border=\"1\" class=\"dataframe\">\n",
       "  <thead>\n",
       "    <tr style=\"text-align: right;\">\n",
       "      <th></th>\n",
       "      <th>Hours Studied</th>\n",
       "      <th>Previous Scores</th>\n",
       "      <th>Extracurricular Activities</th>\n",
       "      <th>Sleep Hours</th>\n",
       "      <th>Sample Question Papers Practiced</th>\n",
       "      <th>Performance Index</th>\n",
       "      <th>Preparation</th>\n",
       "      <th>Time Left</th>\n",
       "    </tr>\n",
       "  </thead>\n",
       "  <tbody>\n",
       "    <tr>\n",
       "      <th>count</th>\n",
       "      <td>10000.000000</td>\n",
       "      <td>10000.000000</td>\n",
       "      <td>10000.000000</td>\n",
       "      <td>10000.000000</td>\n",
       "      <td>10000.000000</td>\n",
       "      <td>10000.000000</td>\n",
       "      <td>10000.000000</td>\n",
       "      <td>1.000000e+04</td>\n",
       "    </tr>\n",
       "    <tr>\n",
       "      <th>mean</th>\n",
       "      <td>0.499113</td>\n",
       "      <td>0.499080</td>\n",
       "      <td>0.494800</td>\n",
       "      <td>0.506120</td>\n",
       "      <td>0.509256</td>\n",
       "      <td>0.502498</td>\n",
       "      <td>0.255976</td>\n",
       "      <td>2.843947e-16</td>\n",
       "    </tr>\n",
       "    <tr>\n",
       "      <th>std</th>\n",
       "      <td>0.323664</td>\n",
       "      <td>0.293952</td>\n",
       "      <td>0.499998</td>\n",
       "      <td>0.339173</td>\n",
       "      <td>0.318594</td>\n",
       "      <td>0.213473</td>\n",
       "      <td>0.252859</td>\n",
       "      <td>1.000000e+00</td>\n",
       "    </tr>\n",
       "    <tr>\n",
       "      <th>min</th>\n",
       "      <td>0.000000</td>\n",
       "      <td>0.000000</td>\n",
       "      <td>0.000000</td>\n",
       "      <td>0.000000</td>\n",
       "      <td>0.000000</td>\n",
       "      <td>0.000000</td>\n",
       "      <td>0.000000</td>\n",
       "      <td>-2.089016e+00</td>\n",
       "    </tr>\n",
       "    <tr>\n",
       "      <th>25%</th>\n",
       "      <td>0.250000</td>\n",
       "      <td>0.237288</td>\n",
       "      <td>0.000000</td>\n",
       "      <td>0.200000</td>\n",
       "      <td>0.222222</td>\n",
       "      <td>0.333333</td>\n",
       "      <td>0.041667</td>\n",
       "      <td>-7.959679e-01</td>\n",
       "    </tr>\n",
       "    <tr>\n",
       "      <th>50%</th>\n",
       "      <td>0.500000</td>\n",
       "      <td>0.491525</td>\n",
       "      <td>0.000000</td>\n",
       "      <td>0.600000</td>\n",
       "      <td>0.555556</td>\n",
       "      <td>0.500000</td>\n",
       "      <td>0.166667</td>\n",
       "      <td>-1.494440e-01</td>\n",
       "    </tr>\n",
       "    <tr>\n",
       "      <th>75%</th>\n",
       "      <td>0.750000</td>\n",
       "      <td>0.762712</td>\n",
       "      <td>1.000000</td>\n",
       "      <td>0.800000</td>\n",
       "      <td>0.777778</td>\n",
       "      <td>0.677778</td>\n",
       "      <td>0.416667</td>\n",
       "      <td>8.203418e-01</td>\n",
       "    </tr>\n",
       "    <tr>\n",
       "      <th>max</th>\n",
       "      <td>1.000000</td>\n",
       "      <td>1.000000</td>\n",
       "      <td>1.000000</td>\n",
       "      <td>1.000000</td>\n",
       "      <td>1.000000</td>\n",
       "      <td>1.000000</td>\n",
       "      <td>1.000000</td>\n",
       "      <td>2.113390e+00</td>\n",
       "    </tr>\n",
       "  </tbody>\n",
       "</table>\n",
       "</div>"
      ]
     },
     "execution_count": 22,
     "metadata": {},
     "output_type": "execute_result"
    }
   ],
   "execution_count": 22
  },
  {
   "metadata": {},
   "cell_type": "markdown",
   "source": [
    "## 3. Разделите данные на обучающий и тестовый наборы данных.\n",
    "Данные разделены так:\n",
    "- 80% $\\textemdash$ обучающая выборка;\n",
    "- 20% $\\textemdash$ тестовая выборка:"
   ],
   "id": "69a22b358c46b814"
  },
  {
   "metadata": {
    "ExecuteTime": {
     "end_time": "2024-10-11T11:57:49.289909Z",
     "start_time": "2024-10-11T11:57:49.278924Z"
    }
   },
   "cell_type": "code",
   "source": [
    "x = data[['Hours Studied', 'Previous Scores', 'Extracurricular Activities', 'Sleep Hours', 'Sample Question Papers Practiced']].values\n",
    "y = data['Performance Index'].values\n",
    "\n",
    "x = np.concatenate([np.ones((x.shape[0], 1)), x], axis = 1)\n",
    "\n",
    "training_set_size = int(0.8 * x.shape[0])\n",
    "x_training_set, x_testing_set = x[:training_set_size], x[training_set_size:]\n",
    "y_training_set, y_testing_set = y[:training_set_size], y[training_set_size:]\n",
    "\n",
    "x_training_set.shape, x_testing_set.shape, y_training_set.shape, y_testing_set.shape"
   ],
   "id": "4af2b472e3182d8d",
   "outputs": [
    {
     "data": {
      "text/plain": [
       "((8000, 6), (2000, 6), (8000,), (2000,))"
      ]
     },
     "execution_count": 13,
     "metadata": {},
     "output_type": "execute_result"
    }
   ],
   "execution_count": 13
  },
  {
   "metadata": {},
   "cell_type": "markdown",
   "source": [
    "## 4. Реализуйте линейную регрессию с использованием метода наименьших квадратов без использования сторонних библиотек, кроме NumPy и Pandas (для использования коэффициентов использовать библиотеки тоже нельзя). Использовать минимизацию суммы квадратов разностей между фактическими и предсказанными значениями для нахождения оптимальных коэффициентов.\n",
    "Реализуем функцию для градиентного спуска"
   ],
   "id": "72b4291b9dbca38"
  },
  {
   "metadata": {
    "ExecuteTime": {
     "end_time": "2024-10-11T11:57:57.294434Z",
     "start_time": "2024-10-11T11:57:57.247800Z"
    }
   },
   "cell_type": "code",
   "source": [
    "def gradient_descent(x, y, theta, learning_rate=0.01, iterations=1000):\n",
    "    assert x.shape[0] == y.shape[0]\n",
    "    assert x.shape[1] == theta.shape[0]\n",
    "    print(f\"Training {iterations} iterations with learning rate {learning_rate}\")\n",
    "    m = len(y)\n",
    "    for i in range(iterations):\n",
    "        predictions = x.dot(theta)\n",
    "        gradients = (1 / m) * x.T.dot(predictions - y)\n",
    "        theta -= learning_rate * gradients\n",
    "        \n",
    "        if i % 100 == 0 or i == iterations - 1:\n",
    "            cost = (1 / (2 * m)) * np.sum((predictions - y) ** 2)\n",
    "            print(f\"Iteration {i}: Cost ({cost})\")\n",
    "    print(\"Training finished.\")\n",
    "    return theta\n",
    "\n",
    "theta = np.zeros(x_testing_set.shape[1])\n",
    "\n",
    "theta = gradient_descent(x_testing_set, y_testing_set, theta)\n",
    "\n",
    "theta"
   ],
   "id": "1660d98032c567d8",
   "outputs": [
    {
     "name": "stdout",
     "output_type": "stream",
     "text": [
      "Training 1000 iterations with learning rate 0.01\n",
      "Iteration 0: Cost (0.15004382716049383)\n",
      "Iteration 100: Cost (0.01501893951353324)\n",
      "Iteration 200: Cost (0.011585947973668428)\n",
      "Iteration 300: Cost (0.009710464378048279)\n",
      "Iteration 400: Cost (0.008197112368028628)\n",
      "Iteration 500: Cost (0.006959336187552984)\n",
      "Iteration 600: Cost (0.00593946076358353)\n",
      "Iteration 700: Cost (0.005093888046153689)\n",
      "Iteration 800: Cost (0.0043890900929418955)\n",
      "Iteration 900: Cost (0.0037989132948972847)\n",
      "Iteration 999: Cost (0.0033072550358476532)\n",
      "Training finished.\n"
     ]
    },
    {
     "data": {
      "text/plain": [
       "array([0.16653084, 0.18410228, 0.41400636, 0.0103129 , 0.03493031,\n",
       "       0.04135945])"
      ]
     },
     "execution_count": 15,
     "metadata": {},
     "output_type": "execute_result"
    }
   ],
   "execution_count": 15
  },
  {
   "metadata": {},
   "cell_type": "markdown",
   "source": [
    "## 5. Постройте три модели с различными наборами признаков. Для каждой модели проведите оценку производительности, используя метрику коэффициент детерминации, чтобы измерить, насколько хорошо модель соответствует данным.\n",
    "Функция для вычисления коэффициента детерминации:"
   ],
   "id": "225d721f2bcebca3"
  },
  {
   "metadata": {
    "ExecuteTime": {
     "end_time": "2024-10-11T11:58:01.622428Z",
     "start_time": "2024-10-11T11:58:01.617166Z"
    }
   },
   "cell_type": "code",
   "source": [
    "def r_sqr2(y_true, y_pred):\n",
    "    assert len(y_true) == len(y_pred)\n",
    "    mean_y = np.mean(y_true)\n",
    "    tss = np.sum((y_true - mean_y) ** 2)\n",
    "    rss = np.sum((y_true - y_pred) ** 2)\n",
    "    r2 = 1 - (rss / tss)\n",
    "    return r2"
   ],
   "id": "97fba8625f4af099",
   "outputs": [],
   "execution_count": 17
  },
  {
   "metadata": {},
   "cell_type": "markdown",
   "source": "### Модель 1: все признаки",
   "id": "5cb563d0457221a9"
  },
  {
   "metadata": {
    "ExecuteTime": {
     "end_time": "2024-10-11T11:58:03.098799Z",
     "start_time": "2024-10-11T11:58:02.994318Z"
    }
   },
   "cell_type": "code",
   "source": [
    "x_training_set_model, x_testing_set_model = x_training_set, x_testing_set\n",
    "theta_model = np.zeros(x_training_set_model.shape[1])\n",
    "theta_model = gradient_descent(x_training_set_model, y_training_set, theta_model)\n",
    "y_pred_model = x_testing_set_model.dot(theta_model)\n",
    "r2_model = r_sqr2(y_testing_set, y_pred_model)\n",
    "r2_model"
   ],
   "id": "cd635e02c896f55",
   "outputs": [
    {
     "name": "stdout",
     "output_type": "stream",
     "text": [
      "Training 1000 iterations with learning rate 0.01\n",
      "Iteration 0: Cost (0.14878287037037036)\n",
      "Iteration 100: Cost (0.015059241002806183)\n",
      "Iteration 200: Cost (0.011541159131640246)\n",
      "Iteration 300: Cost (0.009662896060716814)\n",
      "Iteration 400: Cost (0.008154874718814365)\n",
      "Iteration 500: Cost (0.006924597941090517)\n",
      "Iteration 600: Cost (0.005911992344541394)\n",
      "Iteration 700: Cost (0.005072404070161635)\n",
      "Iteration 800: Cost (0.004371981132206777)\n",
      "Iteration 900: Cost (0.0037846238654025035)\n",
      "Iteration 999: Cost (0.0032944470303623513)\n",
      "Training finished.\n"
     ]
    },
    {
     "data": {
      "text/plain": [
       "np.float64(0.8539448275980489)"
      ]
     },
     "execution_count": 18,
     "metadata": {},
     "output_type": "execute_result"
    }
   ],
   "execution_count": 18
  },
  {
   "metadata": {},
   "cell_type": "markdown",
   "source": "### Модель 2: признаки 'Hours Studied', 'Hours Slept':",
   "id": "af74292286ac9671"
  },
  {
   "metadata": {
    "ExecuteTime": {
     "end_time": "2024-10-11T11:58:05.623311Z",
     "start_time": "2024-10-11T11:58:05.594376Z"
    }
   },
   "cell_type": "code",
   "source": [
    "x_training_set_model_2, x_testing_set_model_2 = x_training_set_model[:, [0, 1, 4]], x_testing_set_model[:, [0, 1, 4]]\n",
    "theta_model_2 = np.zeros(x_training_set_model_2.shape[1])\n",
    "theta_model_2 = gradient_descent(x_training_set_model_2, y_training_set, theta_model_2)\n",
    "y_pred_model_2 = x_testing_set_model_2.dot(theta_model_2)\n",
    "r2_model_2 = r_sqr2(y_testing_set, y_pred_model_2)\n",
    "r2_model_2"
   ],
   "id": "541aca9df2deb61d",
   "outputs": [
    {
     "name": "stdout",
     "output_type": "stream",
     "text": [
      "Training 1000 iterations with learning rate 0.01\n",
      "Iteration 0: Cost (0.14878287037037036)\n",
      "Iteration 100: Cost (0.026444855557533287)\n",
      "Iteration 200: Cost (0.02075793232730364)\n",
      "Iteration 300: Cost (0.02033148870938753)\n",
      "Iteration 400: Cost (0.02017388941811207)\n",
      "Iteration 500: Cost (0.0200552651506619)\n",
      "Iteration 600: Cost (0.019960066629385417)\n",
      "Iteration 700: Cost (0.019883364855391224)\n",
      "Iteration 800: Cost (0.019821535186447872)\n",
      "Iteration 900: Cost (0.019771677770284723)\n",
      "Iteration 999: Cost (0.019731821774513946)\n",
      "Training finished.\n"
     ]
    },
    {
     "data": {
      "text/plain": [
       "np.float64(0.12129685811134738)"
      ]
     },
     "execution_count": 19,
     "metadata": {},
     "output_type": "execute_result"
    }
   ],
   "execution_count": 19
  },
  {
   "metadata": {},
   "cell_type": "markdown",
   "source": "### Модель 3: признаки 'Previous Scores', 'Extracurricular Activities', 'Sample Question Papers Practiced':",
   "id": "68f82c088d132ce3"
  },
  {
   "metadata": {
    "ExecuteTime": {
     "end_time": "2024-10-11T11:58:11.880697Z",
     "start_time": "2024-10-11T11:58:11.854602Z"
    }
   },
   "cell_type": "code",
   "source": [
    "x_training_set_model_3, x_testing_set_model_3 = x_training_set_model[:, [0, 2, 3, 5]], x_testing_set_model[:, [0, 2, 3, 5]]\n",
    "theta_model_3 = np.zeros(x_training_set_model_3.shape[1])\n",
    "theta_model_3 = gradient_descent(x_training_set_model_3, y_training_set, theta_model_3)\n",
    "y_pred_model_3 = x_testing_set_model_3.dot(theta_model_3)\n",
    "r2_model_3 = r_sqr2(y_testing_set, y_pred_model_3)\n",
    "r2_model_3"
   ],
   "id": "444deee32a6d4882",
   "outputs": [
    {
     "name": "stdout",
     "output_type": "stream",
     "text": [
      "Training 1000 iterations with learning rate 0.01\n",
      "Iteration 0: Cost (0.14878287037037036)\n",
      "Iteration 100: Cost (0.01915092916793728)\n",
      "Iteration 200: Cost (0.013568363885324168)\n",
      "Iteration 300: Cost (0.011678706829044356)\n",
      "Iteration 400: Cost (0.010263276512057296)\n",
      "Iteration 500: Cost (0.009141922349011865)\n",
      "Iteration 600: Cost (0.008241002613993693)\n",
      "Iteration 700: Cost (0.007509167901999356)\n",
      "Iteration 800: Cost (0.00690907814197257)\n",
      "Iteration 900: Cost (0.006413095595662958)\n",
      "Iteration 999: Cost (0.006004187710316485)\n",
      "Training finished.\n"
     ]
    },
    {
     "data": {
      "text/plain": [
       "np.float64(0.7363527235857688)"
      ]
     },
     "execution_count": 20,
     "metadata": {},
     "output_type": "execute_result"
    }
   ],
   "execution_count": 20
  },
  {
   "metadata": {},
   "cell_type": "markdown",
   "source": [
    "### Бонусная модель: добавление синтетических признаков:\n",
    "'Preparation' == 'Hours Studied' * 'Sample Question Papers Practiced';\\\n",
    "'Time Left' == 24 (часов) - ('Sleep Hours' + 'Hours Studied'):"
   ],
   "id": "87105468d57d6a4a"
  },
  {
   "metadata": {
    "ExecuteTime": {
     "end_time": "2024-10-25T12:25:49.470672Z",
     "start_time": "2024-10-25T12:25:49.110864Z"
    }
   },
   "cell_type": "code",
   "source": [
    "data['Preparation'] = data['Hours Studied'] * data ['Sample Question Papers Practiced']\n",
    "initial_data = pd.read_csv('./student_performance.csv')\n",
    "data['Time Left'] = 24 - (initial_data['Sleep Hours'] + initial_data['Hours Studied'])\n",
    "data['Time Left'] = (data['Time Left'] - data['Time Left'].mean()) / data['Time Left'].std()\n",
    "data"
   ],
   "id": "235d92fb40bfbe1f",
   "outputs": [
    {
     "ename": "NameError",
     "evalue": "name 'data' is not defined",
     "output_type": "error",
     "traceback": [
      "\u001B[1;31m---------------------------------------------------------------------------\u001B[0m",
      "\u001B[1;31mNameError\u001B[0m                                 Traceback (most recent call last)",
      "Cell \u001B[1;32mIn[1], line 1\u001B[0m\n\u001B[1;32m----> 1\u001B[0m data[\u001B[38;5;124m'\u001B[39m\u001B[38;5;124mPreparation\u001B[39m\u001B[38;5;124m'\u001B[39m] \u001B[38;5;241m=\u001B[39m \u001B[43mdata\u001B[49m[\u001B[38;5;124m'\u001B[39m\u001B[38;5;124mHours Studied\u001B[39m\u001B[38;5;124m'\u001B[39m] \u001B[38;5;241m*\u001B[39m data [\u001B[38;5;124m'\u001B[39m\u001B[38;5;124mSample Question Papers Practiced\u001B[39m\u001B[38;5;124m'\u001B[39m]\n\u001B[0;32m      2\u001B[0m initial_data \u001B[38;5;241m=\u001B[39m pd\u001B[38;5;241m.\u001B[39mread_csv(\u001B[38;5;124m'\u001B[39m\u001B[38;5;124m./student_performance.csv\u001B[39m\u001B[38;5;124m'\u001B[39m)\n\u001B[0;32m      3\u001B[0m data[\u001B[38;5;124m'\u001B[39m\u001B[38;5;124mTime Left\u001B[39m\u001B[38;5;124m'\u001B[39m] \u001B[38;5;241m=\u001B[39m \u001B[38;5;241m24\u001B[39m \u001B[38;5;241m-\u001B[39m (initial_data[\u001B[38;5;124m'\u001B[39m\u001B[38;5;124mSleep Hours\u001B[39m\u001B[38;5;124m'\u001B[39m] \u001B[38;5;241m+\u001B[39m initial_data[\u001B[38;5;124m'\u001B[39m\u001B[38;5;124mHours Studied\u001B[39m\u001B[38;5;124m'\u001B[39m])\n",
      "\u001B[1;31mNameError\u001B[0m: name 'data' is not defined"
     ]
    }
   ],
   "execution_count": 1
  },
  {
   "metadata": {
    "ExecuteTime": {
     "end_time": "2024-10-25T12:25:49.690040700Z",
     "start_time": "2024-10-10T13:19:53.192678Z"
    }
   },
   "cell_type": "code",
   "source": [
    "x_synth = data[['Hours Studied', 'Previous Scores', 'Extracurricular Activities', 'Sleep Hours', 'Sample Question Papers Practiced', 'Preparation', 'Time Left']].values\n",
    "x_synth = np.concatenate([np.ones((x_synth.shape[0], 1)), x_synth], axis=1)\n",
    "\n",
    "training_set_size = int(0.8 * x_synth.shape[0])\n",
    "x_training_set_synth, x_testing_set_synth = x_synth[:training_set_size], x_synth[training_set_size:]\n",
    "y_training_set_synth, y_testing_set_synth = y[:training_set_size], y[training_set_size:]\n",
    "\n",
    "x_training_set_synth.shape, x_testing_set_synth.shape, y_training_set_synth.shape, y_testing_set_synth.shape"
   ],
   "id": "f9f7c27273339b85",
   "outputs": [
    {
     "data": {
      "text/plain": [
       "((8000, 8), (2000, 8), (8000,), (2000,))"
      ]
     },
     "execution_count": 26,
     "metadata": {},
     "output_type": "execute_result"
    }
   ],
   "execution_count": 26
  },
  {
   "metadata": {},
   "cell_type": "markdown",
   "source": "### Модель №4: все признаки + синтетический признак:",
   "id": "24d7537c9b7a489e"
  },
  {
   "metadata": {
    "ExecuteTime": {
     "end_time": "2024-10-10T19:42:01.048097Z",
     "start_time": "2024-10-10T19:42:00.912382Z"
    }
   },
   "cell_type": "code",
   "source": [
    "theta_synth = np.zeros(x_training_set_synth.shape[1])\n",
    "theta_synth = gradient_descent(x_training_set_synth, y_training_set_synth, theta_synth)\n",
    "y_pred_synth = x_testing_set_synth.dot(theta_synth)\n",
    "r2_synth = r_sqr2(y_testing_set_synth, y_pred_synth)\n",
    "r2_synth.astype(float)"
   ],
   "id": "7e9197841e016199",
   "outputs": [
    {
     "name": "stdout",
     "output_type": "stream",
     "text": [
      "Training 1000 iterationswith learning rate 0.01\n",
      "Iteration 0: Cost (0.5012525323570195)\n",
      "Iteration 100: Cost (0.06714460946564658)\n",
      "Iteration 200: Cost (0.013681993136838667)\n",
      "Iteration 300: Cost (0.006664139748687695)\n",
      "Iteration 400: Cost (0.005734106451370817)\n",
      "Iteration 500: Cost (0.005610628970777171)\n",
      "Iteration 600: Cost (0.005594222272713778)\n",
      "Iteration 700: Cost (0.005592040845960579)\n",
      "Iteration 800: Cost (0.005591750616757928)\n",
      "Iteration 900: Cost (0.00559171197783033)\n",
      "Iteration 999: Cost (0.0055917068464459915)\n",
      "Training finished.\n"
     ]
    },
    {
     "data": {
      "text/plain": [
       "np.float64(0.9883703310511447)"
      ]
     },
     "execution_count": 29,
     "metadata": {},
     "output_type": "execute_result"
    }
   ],
   "execution_count": 29
  },
  {
   "metadata": {},
   "cell_type": "markdown",
   "source": [
    "## 6. Сравните результаты трех моделей и сделайте выводы о том, какие признаки работают лучше всего для каждой модели.\n",
    "Были построены 4 моделей со следующими признаками:\n",
    "1. Модель 1: все признаки;\n",
    "2. Модель 2: только признаки 'Hours Studied', 'Sleep Hours'\n",
    "3. Модель 3: только признаки 'Previous Scores', 'Extracurricular Activities', 'Sample Question Papers Practiced' и признак 'Time Left' (== 24 - ('Hours Studied' + 'Sleep Hours'))\n",
    "\n",
    "$\\quad$Все модели тренировались по функции градиентного спуска, описанному выше, со следующими параметрами:\n",
    "- скорость обучения $\\textemdash$ 0.01;\n",
    "- итерации $\\textemdash$ 1000.\\\n",
    "Для оценки моделей используется функция для вычисления коэффициента детерминации:\n",
    "\n",
    "$R^2 = 1 - \\frac{RSS}{TSS}$\\\n",
    "где:\n",
    "- RSS (Residual Sum of Squares) $\\textemdash$ сумма квадратов остатков, или невязок между фактическими и предсказанными значениями;\n",
    "- TSS (Total Sum of Squares) $\\textemdash$ общая сумма квадратов отклонений фактических значений от их среднего. \n",
    "\n",
    "### Анализ и сравнение результатов:\n",
    "- $\\quad$Модель 1 показывает наилучшие результаты (R² = 0.9884), так как использует все признаки. Высокий коэффициент детерминации говорит о том, что данная модель объясняет почти всю изменчивость данных.\n",
    "- $\\quad$Модель 2 (используются только два признака) демонстрирует низкое качество (R² = 0.1346). Этот результат указывает на то, что данные признаки недостаточно объясняют целевую переменную.\n",
    "- $\\quad$Модель 3 с набором других признаков показывает лучшее качество, чем Модель 2, с коэффициентом детерминации R² = 0.8356. Это говорит о том, что такие признаки, как предыдущие оценки и практика решения задач, более значимы для предсказания результата.\n",
    "- $\\quad$Бонусная модель, включающая синтетические признаки, незначительно улучшает результаты первой модели, имея почти идентичные значения функции стоимости и коэффициента детерминации (R² = 0.9884)."
   ],
   "id": "f0257e9f5404403"
  }
 ],
 "metadata": {
  "kernelspec": {
   "display_name": "Python 3",
   "language": "python",
   "name": "python3"
  },
  "language_info": {
   "codemirror_mode": {
    "name": "ipython",
    "version": 2
   },
   "file_extension": ".py",
   "mimetype": "text/x-python",
   "name": "python",
   "nbconvert_exporter": "python",
   "pygments_lexer": "ipython2",
   "version": "2.7.6"
  }
 },
 "nbformat": 4,
 "nbformat_minor": 5
}
